{
  "nbformat": 4,
  "nbformat_minor": 0,
  "metadata": {
    "colab": {
      "provenance": [],
      "toc_visible": true,
      "authorship_tag": "ABX9TyOKh6y2tpVBCmZhBsWvOad1",
      "include_colab_link": true
    },
    "kernelspec": {
      "name": "python3",
      "display_name": "Python 3"
    },
    "language_info": {
      "name": "python"
    }
  },
  "cells": [
    {
      "cell_type": "markdown",
      "metadata": {
        "id": "view-in-github",
        "colab_type": "text"
      },
      "source": [
        "<a href=\"https://colab.research.google.com/github/angelkp570/CursoSpark/blob/master/Clase1_Transformaciones_Acciones.ipynb\" target=\"_parent\"><img src=\"https://colab.research.google.com/assets/colab-badge.svg\" alt=\"Open In Colab\"/></a>"
      ]
    },
    {
      "cell_type": "markdown",
      "source": [
        "# Transformaciones y acciones"
      ],
      "metadata": {
        "id": "9ZRRmo2-iq84"
      }
    },
    {
      "cell_type": "code",
      "execution_count": null,
      "metadata": {
        "id": "qxDXjLY5OSwb"
      },
      "outputs": [],
      "source": [
        "# innstall java\n",
        "!apt-get install openjdk-8-jdk-headless -qq > /dev/null\n",
        "\n",
        "# install spark (change the version number if needed)\n",
        "!wget -q https://archive.apache.org/dist/spark/spark-3.0.0/spark-3.0.0-bin-hadoop3.2.tgz\n",
        "\n",
        "# unzip the spark file to the current folder\n",
        "!tar xf spark-3.0.0-bin-hadoop3.2.tgz\n",
        "\n",
        "# set your spark folder to your system path environment.\n",
        "import os\n",
        "os.environ[\"JAVA_HOME\"] = \"/usr/lib/jvm/java-8-openjdk-amd64\"\n",
        "os.environ[\"SPARK_HOME\"] = \"/content/spark-3.0.0-bin-hadoop3.2\"\n",
        "\n",
        "\n",
        "# install findspark using pip\n",
        "!pip install -q findspark"
      ]
    },
    {
      "cell_type": "code",
      "source": [
        "import findspark\n",
        "findspark.init()\n",
        "from pyspark import SparkContext, SparkConf\n"
      ],
      "metadata": {
        "id": "sbWA2qpoPlA1"
      },
      "execution_count": null,
      "outputs": []
    },
    {
      "cell_type": "code",
      "source": [
        "# ConfigureSparkUI\n",
        "conf = SparkConf().set('spark.ui.port', '4050')\n"
      ],
      "metadata": {
        "id": "YE5yULJrtnOu"
      },
      "execution_count": null,
      "outputs": []
    },
    {
      "cell_type": "code",
      "source": [
        "\n",
        "sc = SparkContext(master = \"local\", appName = \"transformacionesYAcciones\",conf=conf)"
      ],
      "metadata": {
        "id": "ieqz7n1htoQ-"
      },
      "execution_count": null,
      "outputs": []
    },
    {
      "cell_type": "markdown",
      "source": [
        "Los RDDs por su calidad de ser distribuidos y paralelos nosotros los podremos crear de la siguiente manera con parallelize pasamos un conjunto de datos los cuales se van a encontrar de una manera distribuida en nuestro sistema.\n",
        "\n",
        "Es importante tener en claro cual es el tipo de dato que van a tener los RDDs en este momento suena claro que un RDD es del tipo RDD.\n"
      ],
      "metadata": {
        "id": "ciETfIl0jMbH"
      }
    },
    {
      "cell_type": "code",
      "source": [
        "rdd1 = sc.parallelize([1, 2, 3])\n",
        "type(rdd1)"
      ],
      "metadata": {
        "colab": {
          "base_uri": "https://localhost:8080/"
        },
        "id": "Ou3-OahFmeWl",
        "outputId": "344f19ab-5c3d-4e5d-8b9d-8cbff17e54c8"
      },
      "execution_count": null,
      "outputs": [
        {
          "output_type": "execute_result",
          "data": {
            "text/plain": [
              "pyspark.rdd.RDD"
            ]
          },
          "metadata": {},
          "execution_count": 5
        }
      ]
    },
    {
      "cell_type": "markdown",
      "source": [
        "Para poder visualizar nuestro RDD utilizamos la operación collect, parece una lista pero no lo es"
      ],
      "metadata": {
        "id": "SWFo_ovSnM82"
      }
    },
    {
      "cell_type": "code",
      "source": [
        "rdd1.collect()"
      ],
      "metadata": {
        "colab": {
          "base_uri": "https://localhost:8080/"
        },
        "id": "ya0yNxU9nV2C",
        "outputId": "f6aae7f2-6b80-423c-d112-381ebc0e4ae1"
      },
      "execution_count": null,
      "outputs": [
        {
          "output_type": "execute_result",
          "data": {
            "text/plain": [
              "[1, 2, 3]"
            ]
          },
          "metadata": {},
          "execution_count": 6
        }
      ]
    },
    {
      "cell_type": "markdown",
      "source": [
        "Spark funciona como una especie de grafo"
      ],
      "metadata": {
        "id": "Wgva38dvpLHF"
      }
    },
    {
      "cell_type": "code",
      "source": [
        "sc"
      ],
      "metadata": {
        "colab": {
          "base_uri": "https://localhost:8080/",
          "height": 196
        },
        "id": "Ve1bLCvVoNRS",
        "outputId": "6d4c9baf-7539-4c64-f564-911ac25d9a3f"
      },
      "execution_count": null,
      "outputs": [
        {
          "output_type": "execute_result",
          "data": {
            "text/plain": [
              "<SparkContext master=local appName=transformacionesYAcciones>"
            ],
            "text/html": [
              "\n",
              "        <div>\n",
              "            <p><b>SparkContext</b></p>\n",
              "\n",
              "            <p><a href=\"http://42f0a5e2d075:4050\">Spark UI</a></p>\n",
              "\n",
              "            <dl>\n",
              "              <dt>Version</dt>\n",
              "                <dd><code>v3.0.0</code></dd>\n",
              "              <dt>Master</dt>\n",
              "                <dd><code>local</code></dd>\n",
              "              <dt>AppName</dt>\n",
              "                <dd><code>transformacionesYAcciones</code></dd>\n",
              "            </dl>\n",
              "        </div>\n",
              "        "
            ]
          },
          "metadata": {},
          "execution_count": 7
        }
      ]
    },
    {
      "cell_type": "code",
      "source": [
        "equiposOlimpicosRDD = sc.textFile(\"paises.csv\").map(lambda line : line.split(\",\"))"
      ],
      "metadata": {
        "id": "p8E7UmrnPu7z"
      },
      "execution_count": null,
      "outputs": []
    },
    {
      "cell_type": "code",
      "source": [
        "equiposOlimpicosRDD.take(10)"
      ],
      "metadata": {
        "colab": {
          "base_uri": "https://localhost:8080/"
        },
        "id": "9J_4h2oAQFjQ",
        "outputId": "2075d59b-1bab-4353-c5e1-1bc5a63b85be"
      },
      "execution_count": null,
      "outputs": [
        {
          "output_type": "execute_result",
          "data": {
            "text/plain": [
              "[['id', 'equipo', 'sigla'],\n",
              " ['1', '30. Februar', 'AUT'],\n",
              " ['2', 'A North American Team', 'MEX'],\n",
              " ['3', 'Acipactli', 'MEX'],\n",
              " ['4', 'Acturus', 'ARG'],\n",
              " ['5', 'Afghanistan', 'AFG'],\n",
              " ['6', 'Akatonbo', 'IRL'],\n",
              " ['7', 'Alain IV', 'SUI'],\n",
              " ['8', 'Albania', 'ALB'],\n",
              " ['9', 'Alcaid', 'POR']]"
            ]
          },
          "metadata": {},
          "execution_count": 9
        }
      ]
    },
    {
      "cell_type": "markdown",
      "source": [
        "# Acciones de modificación sobre RDDs (Clase 9)"
      ],
      "metadata": {
        "id": "9O4grt1GyYVA"
      }
    },
    {
      "cell_type": "markdown",
      "source": [
        "Primera operación contar cuantas siglas (países) estan participando en los juegos Olimpicos.\n",
        "Para esto utilizamos la función map y dentro una función lambda para regresar el valor del RDD en la posición 2, utilizando una tupla debido a que muchas de las operaciones internas como las va a procesar son con operaciones tipo llave - valor, sin embargo aunque las trabaja como llave-valor las termina convirtiendo a tuplas y antes de contar utilizamos el método distinct para contar sin duplicados"
      ],
      "metadata": {
        "id": "UgaWOwlL5ydY"
      }
    },
    {
      "cell_type": "code",
      "source": [
        "equiposOlimpicosRDD.map(lambda x: (x[2])).distinct().count()"
      ],
      "metadata": {
        "colab": {
          "base_uri": "https://localhost:8080/"
        },
        "id": "27b7ra3yyXM9",
        "outputId": "345bd7ee-5441-4be0-a4b3-68755d82d77d"
      },
      "execution_count": null,
      "outputs": [
        {
          "output_type": "execute_result",
          "data": {
            "text/plain": [
              "231"
            ]
          },
          "metadata": {},
          "execution_count": 10
        }
      ]
    },
    {
      "cell_type": "markdown",
      "source": [
        "# groupByKey\n",
        "Nos permite agrupar valores a partir de una llave\n",
        "En este ejemplo vamos a consultar cuantos equipos posee cada país.\n",
        "La función lambda hace referencia a las columnas que nosotros deseamos, la lógica nos dice que la función lambda debería ser así lambda x : x[1], x[2] para seleccionar la columna de equipos y de países pero esto no es así ya que todo se agrupa en un formato de llave-valor, es decir si hacemos un groupBy lo haría a partir de x[1]: llave y nosotros queremos que la llave sea x[2]\n",
        "# mapValues  \n",
        "Con parámetro de len para que nos muestre el número de equipos de cada país"
      ],
      "metadata": {
        "id": "28kYIv5D9bih"
      }
    },
    {
      "cell_type": "code",
      "source": [
        "equiposOlimpicosRDD.map(lambda x: (x[2], x[1])).groupByKey().mapValues(len).take(5)"
      ],
      "metadata": {
        "colab": {
          "base_uri": "https://localhost:8080/"
        },
        "id": "vqP-8j9DyW6O",
        "outputId": "19946e03-0d45-4530-ebe1-2dfe383a930a"
      },
      "execution_count": null,
      "outputs": [
        {
          "output_type": "execute_result",
          "data": {
            "text/plain": [
              "[('sigla', 1), ('AUT', 11), ('MEX', 9), ('ARG', 18), ('AFG', 1)]"
            ]
          },
          "metadata": {},
          "execution_count": 11
        }
      ]
    },
    {
      "cell_type": "markdown",
      "source": [
        "si hacemos una variación en mapValues pero en lugar de len usamos una lista"
      ],
      "metadata": {
        "id": "YY6DgancC5PX"
      }
    },
    {
      "cell_type": "code",
      "source": [
        "equiposOlimpicosRDD.map(lambda x: (x[2], x[1])).groupByKey()\\\n",
        "                        .mapValues(list).take(5)"
      ],
      "metadata": {
        "colab": {
          "base_uri": "https://localhost:8080/"
        },
        "id": "_jizYvzTkp7u",
        "outputId": "73cabade-5b28-41af-e0cd-5e9428a0fdbe"
      },
      "execution_count": null,
      "outputs": [
        {
          "output_type": "execute_result",
          "data": {
            "text/plain": [
              "[('sigla', ['equipo']),\n",
              " ('AUT',\n",
              "  ['30. Februar',\n",
              "   'Austria',\n",
              "   'Austria-1',\n",
              "   'Austria-2',\n",
              "   'Breslau',\n",
              "   'Brigantia',\n",
              "   'Donar III',\n",
              "   'Evita VI',\n",
              "   'May-Be 1960',\n",
              "   '\"R.-V. Germania; Leitmeritz\"',\n",
              "   'Surprise']),\n",
              " ('MEX',\n",
              "  ['A North American Team',\n",
              "   'Acipactli',\n",
              "   'Chamukina',\n",
              "   'Mexico',\n",
              "   'Mexico-1',\n",
              "   'Mexico-2',\n",
              "   'Nausikaa 4',\n",
              "   'Tlaloc',\n",
              "   'Xolotl']),\n",
              " ('ARG',\n",
              "  ['Acturus',\n",
              "   'Antares',\n",
              "   'Arcturus',\n",
              "   'Ardilla',\n",
              "   'Argentina',\n",
              "   'Argentina-1',\n",
              "   'Argentina-2',\n",
              "   'Blue Red',\n",
              "   'Covunco III',\n",
              "   'Cupidon III',\n",
              "   'Djinn',\n",
              "   'Gullvinge',\n",
              "   'Matrero II',\n",
              "   'Mizar',\n",
              "   'Pampero',\n",
              "   'Rampage',\n",
              "   'Tango',\n",
              "   'Wiking']),\n",
              " ('AFG', ['Afghanistan'])]"
            ]
          },
          "metadata": {},
          "execution_count": 12
        }
      ]
    },
    {
      "cell_type": "markdown",
      "source": [
        "# filter\n",
        "Filtrar los valores de solo un contenido que deseamos"
      ],
      "metadata": {
        "id": "kweqQUEHDgqG"
      }
    },
    {
      "cell_type": "code",
      "source": [
        "equiposArgentinos = equiposOlimpicosRDD.filter(lambda l: \"ARG\" in l)\n",
        "equiposArgentinos.collect()"
      ],
      "metadata": {
        "colab": {
          "base_uri": "https://localhost:8080/"
        },
        "id": "ybpiM1s5DoLs",
        "outputId": "aa36c51b-0090-4692-bafd-07bb943876b3"
      },
      "execution_count": null,
      "outputs": [
        {
          "output_type": "execute_result",
          "data": {
            "text/plain": [
              "[['4', 'Acturus', 'ARG'],\n",
              " ['37', 'Antares', 'ARG'],\n",
              " ['42', 'Arcturus', 'ARG'],\n",
              " ['43', 'Ardilla', 'ARG'],\n",
              " ['45', 'Argentina', 'ARG'],\n",
              " ['46', 'Argentina-1', 'ARG'],\n",
              " ['47', 'Argentina-2', 'ARG'],\n",
              " ['119', 'Blue Red', 'ARG'],\n",
              " ['238', 'Covunco III', 'ARG'],\n",
              " ['252', 'Cupidon III', 'ARG'],\n",
              " ['288', 'Djinn', 'ARG'],\n",
              " ['436', 'Gullvinge', 'ARG'],\n",
              " ['644', 'Matrero II', 'ARG'],\n",
              " ['672', 'Mizar', 'ARG'],\n",
              " ['774', 'Pampero', 'ARG'],\n",
              " ['843', 'Rampage', 'ARG'],\n",
              " ['1031', 'Tango', 'ARG'],\n",
              " ['1162', 'Wiking', 'ARG']]"
            ]
          },
          "metadata": {},
          "execution_count": 13
        }
      ]
    },
    {
      "cell_type": "markdown",
      "source": [
        "# Diferencia entre collect y take\n",
        "Collect lo que hace es, todos los RDD que tenga el valor que nosotros deseamos lo manda a la computadora que ejecuto el collect. Esto puede provocar que el servidor se alente por la cantidad de datos y take toma solo una muestra de n elementos\n",
        "\n",
        "Si nosotros no estamos seguros de cuantos datos tiene un RDD y no tenemos mucho tiempo, podemos utilizar la función countApprox la cual recibe un valor numérico que representa la cantidad de milisegundos, es decir va a contar hasta la cantidad de milisegundos indicados y si la cuanta va a tardar más de ese tiempo aborta la operación"
      ],
      "metadata": {
        "id": "6MhU6xbqERM9"
      }
    },
    {
      "cell_type": "code",
      "source": [
        "equiposOlimpicosRDD.countApprox(20)"
      ],
      "metadata": {
        "colab": {
          "base_uri": "https://localhost:8080/"
        },
        "id": "mrPhnctNFC77",
        "outputId": "f7478318-5858-4c76-a813-9ad90e40b2f4"
      },
      "execution_count": null,
      "outputs": [
        {
          "output_type": "execute_result",
          "data": {
            "text/plain": [
              "1185"
            ]
          },
          "metadata": {},
          "execution_count": 14
        }
      ]
    },
    {
      "cell_type": "markdown",
      "source": [
        "# Acciones de conteo sobre RDDs (clase 10)"
      ],
      "metadata": {
        "id": "9N2GxPKiGsyV"
      }
    },
    {
      "cell_type": "markdown",
      "source": [
        "Se importan los archivos de \"deportista.csv\" y \"deportista2.csv\"\n",
        "\n",
        "Posteriormente se realiza una unión\n",
        "En SQL tenemos la operacion de union y union all, las diferencias es que si en uno tenemos valores repetidos nos los deja y en el otro nos los quita.\n",
        "En Spark solo esta union y ya se encarga de que no tengamos las duplicidades"
      ],
      "metadata": {
        "id": "zF4pqJu-2exF"
      }
    },
    {
      "cell_type": "code",
      "source": [
        "deportistaOlimpicoRDD = sc.textFile(\"deportista.csv\").map(lambda l : l.split(\",\"))\n",
        "deportistaOlimpicoRDD2 = sc.textFile(\"deportista2.csv\").map(lambda l : l.split(\",\"))\n",
        "\n",
        "deportistaOlimpicoRDD = deportistaOlimpicoRDD.union(deportistaOlimpicoRDD2)"
      ],
      "metadata": {
        "id": "zGxeHMiOGxNR"
      },
      "execution_count": null,
      "outputs": []
    },
    {
      "cell_type": "markdown",
      "source": [
        "Cunado hagamos estas cargas con uniones y no estemos seguros de la calidad de los datos que poseen los archivos, podemos realizar una acción que fuerce a utilizar todo el contenido (Menos collect) como count, si los archivos tienen la calidad mínima para que Spark pueda ejecutar la instrucción no tenderemos problema"
      ],
      "metadata": {
        "id": "OtBFoKPE3x0d"
      }
    },
    {
      "cell_type": "code",
      "source": [
        "deportistaOlimpicoRDD.count()"
      ],
      "metadata": {
        "colab": {
          "base_uri": "https://localhost:8080/"
        },
        "id": "piM64RCGLaGt",
        "outputId": "ff141318-221c-49f5-fa5d-5285494f9b63"
      },
      "execution_count": null,
      "outputs": [
        {
          "output_type": "execute_result",
          "data": {
            "text/plain": [
              "135572"
            ]
          },
          "metadata": {},
          "execution_count": 16
        }
      ]
    },
    {
      "cell_type": "markdown",
      "source": [
        "top(2) nos muestra las primeras dos líneas del archivo"
      ],
      "metadata": {
        "id": "85vZcSuL4eOv"
      }
    },
    {
      "cell_type": "code",
      "source": [
        "equiposOlimpicosRDD.top(2)"
      ],
      "metadata": {
        "colab": {
          "base_uri": "https://localhost:8080/"
        },
        "id": "tpUFHpQnLjbw",
        "outputId": "fde26743-96e3-48d7-b86e-18e278a95380"
      },
      "execution_count": null,
      "outputs": [
        {
          "output_type": "execute_result",
          "data": {
            "text/plain": [
              "[['id', 'equipo', 'sigla'], ['999', 'Stella-2', 'NOR']]"
            ]
          },
          "metadata": {},
          "execution_count": 17
        }
      ]
    },
    {
      "cell_type": "code",
      "source": [
        "deportistaOlimpicoRDD.top(2)"
      ],
      "metadata": {
        "colab": {
          "base_uri": "https://localhost:8080/"
        },
        "id": "Wl8WZFG8LqrD",
        "outputId": "bcc5cdfc-82f9-4e63-af8d-af34b62d2cb2"
      },
      "execution_count": null,
      "outputs": [
        {
          "output_type": "execute_result",
          "data": {
            "text/plain": [
              "[['deportista_id', 'nombre', 'genero', 'edad', 'altura', 'peso', 'equipo_id'],\n",
              " ['99999', 'Alexander Grant Alick Rennie', '1', '32', '182', '71', '967']]"
            ]
          },
          "metadata": {},
          "execution_count": 18
        }
      ]
    },
    {
      "cell_type": "markdown",
      "source": [
        "Viendo el modelo relacional vemos que Deportista y Equipo se relacionan a través de Equipo_ID\n",
        "\n",
        "Para poder hacer esta union primero tenemos que seleccionar las columnas de id(que en el modelo relacional se llama equipo_id) y equipo_id y a partir de eso hacer el join.\n",
        "Primero hacemos un mapeo con el RDD deportistaOlimpicoRDD, al hacer el mapeo este funciona con un esquema de llave-valor por eso tengo que seleccionar la columna que posee el equipo_id y adicional queremos el resto del contenido que posee el RDD y lo encapsulamos en una lista o tupla y una vez seleccionado nuestro valor eje para poder hacer el join, lo siguiente es elegir con que RDD hacerlo.\n",
        "\n",
        "En el segundo RDD elegimos cual es el valor eje sobre el cual operar el cual es id(equipo_id en el modelo relacional) y en este caso solo nos interesa el ultimo valor del RDD el cual es la sigla y encapsulamos en una lista o tupla\n",
        "\n",
        "El resultado es:\n",
        "\n",
        "[('equipo_id', (['deportista_id', 'nombre', 'genero', 'edad', 'altura', 'peso'], 'sigla'))]\n",
        "\n",
        "\n"
      ],
      "metadata": {
        "id": "XvbM4XNa6I5v"
      }
    },
    {
      "cell_type": "code",
      "source": [
        "deportistaOlimpicoRDD.map(lambda l : [l[-1],l[:-1]]).join(equiposOlimpicosRDD.map(lambda x : [x[0], x[2]]))\\\n",
        "  .take(6)"
      ],
      "metadata": {
        "colab": {
          "base_uri": "https://localhost:8080/"
        },
        "id": "KoNQtlwQ2pJD",
        "outputId": "cb81f46f-92c5-4d8b-8912-dfb8eac8ea14"
      },
      "execution_count": null,
      "outputs": [
        {
          "output_type": "execute_result",
          "data": {
            "text/plain": [
              "[('199', (['1', 'A Dijiang', '1', '24', '180', '80'], 'CHN')),\n",
              " ('199', (['2', 'A Lamusi', '1', '23', '170', '60'], 'CHN')),\n",
              " ('199', (['602', 'Abudoureheman', '1', '22', '182', '75'], 'CHN')),\n",
              " ('199', (['1463', 'Ai Linuer', '1', '25', '160', '62'], 'CHN')),\n",
              " ('199', (['1464', 'Ai Yanhan', '2', '14', '168', '54'], 'CHN')),\n",
              " ('199', (['3605', 'An Weijiang', '1', '22', '178', '72'], 'CHN'))]"
            ]
          },
          "metadata": {},
          "execution_count": 19
        }
      ]
    },
    {
      "cell_type": "code",
      "source": [
        "deportistaOlimpicoRDD.map(lambda l : (l[-1],l[:-1])).join(equiposOlimpicosRDD.map(lambda x : (x[0], x[2])))\\\n",
        "  .take(6)"
      ],
      "metadata": {
        "colab": {
          "base_uri": "https://localhost:8080/"
        },
        "id": "WXtk_RbSEiq6",
        "outputId": "f875ecc6-0a12-4175-84b9-c1ecebdc2817"
      },
      "execution_count": null,
      "outputs": [
        {
          "output_type": "execute_result",
          "data": {
            "text/plain": [
              "[('199', (['1', 'A Dijiang', '1', '24', '180', '80'], 'CHN')),\n",
              " ('199', (['2', 'A Lamusi', '1', '23', '170', '60'], 'CHN')),\n",
              " ('199', (['602', 'Abudoureheman', '1', '22', '182', '75'], 'CHN')),\n",
              " ('199', (['1463', 'Ai Linuer', '1', '25', '160', '62'], 'CHN')),\n",
              " ('199', (['1464', 'Ai Yanhan', '2', '14', '168', '54'], 'CHN')),\n",
              " ('199', (['3605', 'An Weijiang', '1', '22', '178', '72'], 'CHN'))]"
            ]
          },
          "metadata": {},
          "execution_count": 20
        }
      ]
    },
    {
      "cell_type": "markdown",
      "source": [
        "# takeSample\n",
        "\n",
        "esta operación nos permite elegir una muestra aleatoria de valores, el primer parámetro es para elegir si queremos valores repetidos o no, el siguiente parámetro es cuantos valores quiero visualizar y el tercer parámetro es una semilla aleatoria"
      ],
      "metadata": {
        "id": "U941KpmmL9j8"
      }
    },
    {
      "cell_type": "code",
      "source": [
        "deportistaOlimpicoRDD.map(lambda l : (l[-1],l[:-1])).join(equiposOlimpicosRDD.map(lambda x : (x[0], x[2])))\\\n",
        "  .takeSample(False, 6, 25)"
      ],
      "metadata": {
        "colab": {
          "base_uri": "https://localhost:8080/"
        },
        "id": "LqnPk_utMfeM",
        "outputId": "eeaac149-1aa9-4eb8-b6e8-12ffb6ad00c2"
      },
      "execution_count": null,
      "outputs": [
        {
          "output_type": "execute_result",
          "data": {
            "text/plain": [
              "[('362', (['131505', 'Steven Woodburn', '1', '24', '185', '90'], 'FRA')),\n",
              " ('967', (['13626', 'Jill Brresen', '2', '22', '170', '57'], 'RSA')),\n",
              " ('482', (['44299', 'Gumundur Gumundsson', '1', '23', '174', '77'], 'ISL')),\n",
              " ('970', (['68062', 'Lee MinHui', '2', '28', '174', '65'], 'KOR')),\n",
              " ('794', (['92442', 'Luis Paz Zoldan', '1', '19', '187', '82'], 'PER')),\n",
              " ('413', (['26822', 'Jared Mark Deacon', '1', '24', '185', '77'], 'GBR'))]"
            ]
          },
          "metadata": {},
          "execution_count": 21
        }
      ]
    },
    {
      "cell_type": "markdown",
      "source": [
        "Cargamos el archivo \"resultados.csv\""
      ],
      "metadata": {
        "id": "Adi3VMoYNYc3"
      }
    },
    {
      "cell_type": "code",
      "source": [
        "resultado = sc.textFile(\"resultados.csv\").map(lambda line: line.split(\",\"))"
      ],
      "metadata": {
        "id": "fsf-8ZRdM7Xe"
      },
      "execution_count": null,
      "outputs": []
    },
    {
      "cell_type": "markdown",
      "source": [
        "No me interesa los jugadores que no han ganado una medalla\n",
        "\n",
        "Para esto aplicamos un filter donde verificamos a través de una lambda si el valor 'NA' no aparace, de ser así se filtra"
      ],
      "metadata": {
        "id": "_Va2wh2PNgk-"
      }
    },
    {
      "cell_type": "code",
      "source": [
        "resultadoGanador = resultado.filter(lambda l: 'NA' not in l[1])"
      ],
      "metadata": {
        "id": "FzOIYllBNosJ"
      },
      "execution_count": null,
      "outputs": []
    },
    {
      "cell_type": "code",
      "source": [
        "resultadoGanador.take(2)"
      ],
      "metadata": {
        "colab": {
          "base_uri": "https://localhost:8080/"
        },
        "id": "x_nydvhuOaua",
        "outputId": "2289ea91-eee6-40fd-f0f5-ad04e4d4b503"
      },
      "execution_count": null,
      "outputs": [
        {
          "output_type": "execute_result",
          "data": {
            "text/plain": [
              "[['resultado_id', 'medalla', 'deportista_id', 'juego_id', 'evento_id'],\n",
              " ['4', 'Gold', '4', '2', '4']]"
            ]
          },
          "metadata": {},
          "execution_count": 24
        }
      ]
    },
    {
      "cell_type": "markdown",
      "source": [
        "# Reto\n",
        "hacer un join entre Equipo y deportista con el nuevo RDD creado"
      ],
      "metadata": {
        "id": "JSrDxK-SQibs"
      }
    },
    {
      "cell_type": "markdown",
      "source": [
        "Con la siguiente instrucción se buscaba hacer el join con las tres tablas pero esta forma fue incorrecta"
      ],
      "metadata": {
        "id": "HEbE8mZTpv8b"
      }
    },
    {
      "cell_type": "code",
      "source": [
        "resultadoGanador.map(lambda l: (l[2],l[1])).join(deportistaOlimpicoRDD.map(lambda l : (l[-1],l[:-1])).join(equiposOlimpicosRDD.map(lambda x : (x[0], x[2]))))\\\n",
        "  .takeSample(False, 6, 20)"
      ],
      "metadata": {
        "colab": {
          "base_uri": "https://localhost:8080/"
        },
        "id": "fEG4lntaQ5Tn",
        "outputId": "b35892b0-5558-4cdd-b423-55b1be62c65f"
      },
      "execution_count": null,
      "outputs": [
        {
          "output_type": "execute_result",
          "data": {
            "text/plain": [
              "[('404',\n",
              "  ('Gold', (['25277', 'Michael Ebo Dankwa', '1', '24', '163', '48'], 'GHA'))),\n",
              " ('705',\n",
              "  ('Gold',\n",
              "   (['92932', 'Klaas Johan Klaas Jan Pen', '1', '45', '0', '0'], 'NED'))),\n",
              " ('705',\n",
              "  ('Bronze',\n",
              "   (['119000', 'Gerardus Franciscus Gerard Tebroke', '1', '30', '184', '70'],\n",
              "    'NED'))),\n",
              " ('507',\n",
              "  ('Bronze', (['91031', 'Francesco Panetta', '1', '21', '175', '64'], 'ITA'))),\n",
              " ('619',\n",
              "  ('Gold', (['111339', 'Siow Yi Ting', '2', '16', '169', '49'], 'MAS'))),\n",
              " ('705',\n",
              "  ('Gold',\n",
              "   (['13725',\n",
              "     'Gerard Dagobert Henri Bosch van Drakestein',\n",
              "     '1',\n",
              "     '20',\n",
              "     '0',\n",
              "     '0'],\n",
              "    'NED')))]"
            ]
          },
          "metadata": {},
          "execution_count": 25
        }
      ]
    },
    {
      "cell_type": "markdown",
      "source": [
        "Se trata de hacer el join primero con dos tablas Deportista y Equipos\n",
        "\n",
        "De la tabla Deportista se utiliza el valor llave de"
      ],
      "metadata": {
        "id": "dtX9QBbGumsj"
      }
    },
    {
      "cell_type": "code",
      "source": [
        "primerJoin = deportistaOlimpicoRDD.map(lambda l : (l[-1],l[:-1])).join(equiposOlimpicosRDD.map(lambda x : (x[0], x[2])))\n",
        "primerJoin.take(6)"
      ],
      "metadata": {
        "colab": {
          "base_uri": "https://localhost:8080/"
        },
        "id": "Ovvw0SGZrzC_",
        "outputId": "572ea7a5-f6f3-4a6d-a520-300014ac8b24"
      },
      "execution_count": null,
      "outputs": [
        {
          "output_type": "execute_result",
          "data": {
            "text/plain": [
              "[('199', (['1', 'A Dijiang', '1', '24', '180', '80'], 'CHN')),\n",
              " ('199', (['2', 'A Lamusi', '1', '23', '170', '60'], 'CHN')),\n",
              " ('199', (['602', 'Abudoureheman', '1', '22', '182', '75'], 'CHN')),\n",
              " ('199', (['1463', 'Ai Linuer', '1', '25', '160', '62'], 'CHN')),\n",
              " ('199', (['1464', 'Ai Yanhan', '2', '14', '168', '54'], 'CHN')),\n",
              " ('199', (['3605', 'An Weijiang', '1', '22', '178', '72'], 'CHN'))]"
            ]
          },
          "metadata": {},
          "execution_count": 26
        }
      ]
    },
    {
      "cell_type": "code",
      "source": [
        "resultadoGanador.map(lambda l: (l[2],l[1])).join(primerJoin.map(lambda l: [l[1][0][0],l[1][1][0:]])).take(6)"
      ],
      "metadata": {
        "colab": {
          "base_uri": "https://localhost:8080/"
        },
        "id": "60BwJaHZsLNt",
        "outputId": "535312aa-8c34-4871-9833-e141fa4cd09a"
      },
      "execution_count": null,
      "outputs": [
        {
          "output_type": "execute_result",
          "data": {
            "text/plain": [
              "[('4', ('Gold', 'SWE')),\n",
              " ('16', ('Bronze', 'FIN')),\n",
              " ('20', ('Gold', 'NOR')),\n",
              " ('20', ('Bronze', 'NOR')),\n",
              " ('20', ('Silver', 'NOR')),\n",
              " ('20', ('Bronze', 'NOR'))]"
            ]
          },
          "metadata": {},
          "execution_count": 27
        }
      ]
    },
    {
      "cell_type": "code",
      "source": [
        "resultadoGanador.map(lambda l: (l[2],l[1])).join(primerJoin.map(lambda l: [l[1][0][0],l[1][0][1:]])).take(6)"
      ],
      "metadata": {
        "colab": {
          "base_uri": "https://localhost:8080/"
        },
        "id": "AzbqT013yblL",
        "outputId": "85ebf2c4-215f-4cc5-dbb2-7150c583dcf6"
      },
      "execution_count": null,
      "outputs": [
        {
          "output_type": "execute_result",
          "data": {
            "text/plain": [
              "[('4', ('Gold', ['Edgar Lindenau Aabye', '1', '34', '0', '0'])),\n",
              " ('16', ('Bronze', ['Juhamatti Tapio Aaltonen', '1', '28', '184', '85'])),\n",
              " ('20', ('Gold', ['Kjetil Andr Aamodt', '1', '20', '176', '85'])),\n",
              " ('20', ('Bronze', ['Kjetil Andr Aamodt', '1', '20', '176', '85'])),\n",
              " ('20', ('Silver', ['Kjetil Andr Aamodt', '1', '20', '176', '85'])),\n",
              " ('20', ('Bronze', ['Kjetil Andr Aamodt', '1', '20', '176', '85']))]"
            ]
          },
          "metadata": {},
          "execution_count": 28
        }
      ]
    },
    {
      "cell_type": "code",
      "source": [
        "deportistaPaises = deportistaOlimpicoRDD\\\n",
        "  .map(lambda l: [l[-1],l[:-1]])\\\n",
        "  .join(equiposOlimpicosRDD.map(lambda x: [x[0],x[2]]))"
      ],
      "metadata": {
        "id": "MAh4UvlkoBfy"
      },
      "execution_count": null,
      "outputs": []
    },
    {
      "cell_type": "code",
      "source": [
        "deportistaPaises.join(resultadoGanador).take(6)"
      ],
      "metadata": {
        "colab": {
          "base_uri": "https://localhost:8080/"
        },
        "id": "q8pzVdKPoki-",
        "outputId": "7c8ea3f4-8eaa-4aba-ea75-31ed4fb81db2"
      },
      "execution_count": null,
      "outputs": [
        {
          "output_type": "execute_result",
          "data": {
            "text/plain": [
              "[('74',\n",
              "  ((['65', 'Patimat Abakarova', '2', '21', '165', '49'], 'AZE'), 'Gold')),\n",
              " ('74', ((['129', 'Ruslan Abbasov', '1', '22', '181', '74'], 'AZE'), 'Gold')),\n",
              " ('74', ((['130', 'Tural Abbasov', '1', '18', '182', '76'], 'AZE'), 'Gold')),\n",
              " ('74', ((['131', 'Tran Abbasova', '2', '33', '159', '53'], 'AZE'), 'Gold')),\n",
              " ('74',\n",
              "  ((['335', 'Abdulqdir Abdullayev', '1', '28', '188', '91'], 'AZE'), 'Gold')),\n",
              " ('74',\n",
              "  ((['336', 'Arif Yadulla Abdullayev', '1', '27', '164', '60'], 'AZE'),\n",
              "   'Gold'))]"
            ]
          },
          "metadata": {},
          "execution_count": 30
        }
      ]
    },
    {
      "cell_type": "markdown",
      "source": [
        "# Operaciones numéricas\n"
      ],
      "metadata": {
        "id": "UfWCqS51ElKB"
      }
    },
    {
      "cell_type": "markdown",
      "source": [
        "Con la siguiente instrucción se logra hacer el join con tres tablas, como resultado obtenemos el id_deportista, la medalla, el nombre y sus estadísticas y el país al que pertenece"
      ],
      "metadata": {
        "id": "Uk1T1aBE3moO"
      }
    },
    {
      "cell_type": "code",
      "source": [
        "resultadoGanador.map(lambda l: (l[2],l[1])).join(primerJoin.map(lambda l: (l[1][0][0],(l[1][0][1:],l[1][1][0:])))).take(6)"
      ],
      "metadata": {
        "colab": {
          "base_uri": "https://localhost:8080/"
        },
        "id": "7CU0By3iJt4p",
        "outputId": "63764525-1082-42fd-bb00-e58b366491a4"
      },
      "execution_count": null,
      "outputs": [
        {
          "output_type": "execute_result",
          "data": {
            "text/plain": [
              "[('4', ('Gold', (['Edgar Lindenau Aabye', '1', '34', '0', '0'], 'SWE'))),\n",
              " ('16',\n",
              "  ('Bronze', (['Juhamatti Tapio Aaltonen', '1', '28', '184', '85'], 'FIN'))),\n",
              " ('20', ('Gold', (['Kjetil Andr Aamodt', '1', '20', '176', '85'], 'NOR'))),\n",
              " ('20', ('Bronze', (['Kjetil Andr Aamodt', '1', '20', '176', '85'], 'NOR'))),\n",
              " ('20', ('Silver', (['Kjetil Andr Aamodt', '1', '20', '176', '85'], 'NOR'))),\n",
              " ('20', ('Bronze', (['Kjetil Andr Aamodt', '1', '20', '176', '85'], 'NOR')))]"
            ]
          },
          "metadata": {},
          "execution_count": 31
        }
      ]
    },
    {
      "cell_type": "markdown",
      "source": [
        "En esta clase se asigna a cada tipo de medalla un valor númerico para posteriormente hacer una suma de todas las medallas que posee un país y encontrar el valor de puntaje que han tenido los países a lo largo del tiempo"
      ],
      "metadata": {
        "id": "_8sOC8LxiyEW"
      }
    },
    {
      "cell_type": "code",
      "source": [
        "valoresMedallas = {'Gold' : 7,\n",
        "'Silver' : 5,\n",
        "'Bronze' : 4}"
      ],
      "metadata": {
        "id": "BtF9ilR3i33o"
      },
      "execution_count": null,
      "outputs": []
    },
    {
      "cell_type": "markdown",
      "source": [
        "Esta instrucción es con la que hicimos el join entre tres tablas solo que la guardamos en una variable llamanda <b>paisesMedallas</b>"
      ],
      "metadata": {
        "id": "Ebgd6HM6toDo"
      }
    },
    {
      "cell_type": "code",
      "source": [
        "paisesMedallas = resultadoGanador.map(lambda l: (l[2],l[1])).join(primerJoin.map(lambda l: (l[1][0][0],(l[1][0][1:],l[1][1][0:]))))"
      ],
      "metadata": {
        "id": "CcTnyCMRjM7C"
      },
      "execution_count": null,
      "outputs": []
    },
    {
      "cell_type": "markdown",
      "source": [
        "Hacemos un pequeño filtro para obtener tuplas o parejas de datos conformados por la sigla del país y el tipo de medalla que ganó"
      ],
      "metadata": {
        "id": "Xv4taus5ueoQ"
      }
    },
    {
      "cell_type": "code",
      "source": [
        "paisesMedallas.map(lambda x: (x[1][1][1],x[1][0])).take(4)"
      ],
      "metadata": {
        "id": "TduaEX3bnaoG",
        "colab": {
          "base_uri": "https://localhost:8080/"
        },
        "outputId": "fdfbee57-3eae-45e1-c2f5-d1354ec3bd1e"
      },
      "execution_count": null,
      "outputs": [
        {
          "output_type": "execute_result",
          "data": {
            "text/plain": [
              "[('SWE', 'Gold'), ('FIN', 'Bronze'), ('NOR', 'Gold'), ('NOR', 'Bronze')]"
            ]
          },
          "metadata": {},
          "execution_count": 34
        }
      ]
    },
    {
      "cell_type": "markdown",
      "source": [
        "La función add de la librería operator. En Spark, esta importación generalmente se utiliza para realizar operaciones de suma en el contexto de programación funcional.\n",
        "\n",
        "La función add de la librería operator simplemente realiza una suma de dos elementos. En el contexto de Spark, puede ser utilizada junto con funciones como map o reduce para realizar operaciones de suma en RDDs (Resilient Distributed Datasets) o DataFrames."
      ],
      "metadata": {
        "id": "tkJVr2ir1SMD"
      }
    },
    {
      "cell_type": "code",
      "source": [
        "from operator import add"
      ],
      "metadata": {
        "id": "WuMhoJQ6KVG2"
      },
      "execution_count": null,
      "outputs": []
    },
    {
      "cell_type": "markdown",
      "source": [
        "#Ejemplos add"
      ],
      "metadata": {
        "id": "bouu1y9c2TuU"
      }
    },
    {
      "cell_type": "code",
      "source": [
        "# Configuración del SparkContext\n",
        "# sc = SparkContext(\"local\", \"Ejemplo Spark\")\n",
        "\n",
        "# Crear un RDD con datos de ejemplo\n",
        "data = [1, 2, 3, 4, 5]\n",
        "rdd = sc.parallelize(data)\n",
        "\n",
        "# Utilizar la función add junto con reduce para sumar todos los elementos del RDD\n",
        "suma_total = rdd.reduce(add)\n",
        "\n",
        "# Imprimir el resultado\n",
        "print(\"La suma total es:\", suma_total)"
      ],
      "metadata": {
        "colab": {
          "base_uri": "https://localhost:8080/"
        },
        "id": "NlQUDt622P7r",
        "outputId": "cd963606-b22e-43e7-9c96-e51f5c3ed958"
      },
      "execution_count": null,
      "outputs": [
        {
          "output_type": "stream",
          "name": "stdout",
          "text": [
            "La suma total es: 15\n"
          ]
        }
      ]
    },
    {
      "cell_type": "markdown",
      "source": [
        "En este ejemplo, se crea un RDD con datos de ejemplo y se utiliza la función map junto con add para sumar 1 a cada elemento del RDD. Luego, se recogen los resultados y se imprimen."
      ],
      "metadata": {
        "id": "3_hMQwbY7bud"
      }
    },
    {
      "cell_type": "code",
      "source": [
        "# Configuración del SparkContext\n",
        "# sc = SparkContext(\"local\", \"Ejemplo Spark\")\n",
        "\n",
        "# Crear un RDD con datos de ejemplo\n",
        "data = [1, 2, 3, 4, 5]\n",
        "rdd = sc.parallelize(data)\n",
        "\n",
        "# Utilizar la función add junto con map para sumar 1 a cada elemento del RDD\n",
        "rdd_sumado = rdd.map(lambda x: add(x, 1))\n",
        "\n",
        "# Recoger los resultados y mostrarlos\n",
        "resultados = rdd_sumado.collect()\n",
        "print(\"Elementos del RDD después de sumar 1:\", resultados)"
      ],
      "metadata": {
        "colab": {
          "base_uri": "https://localhost:8080/"
        },
        "id": "aqlnR3jW6DmM",
        "outputId": "93f4bc62-f8d7-4fa0-f2ad-7001094d9659"
      },
      "execution_count": null,
      "outputs": [
        {
          "output_type": "stream",
          "name": "stdout",
          "text": [
            "Elementos del RDD después de sumar 1: [2, 3, 4, 5, 6]\n"
          ]
        }
      ]
    },
    {
      "cell_type": "markdown",
      "source": [
        "La siguiente instrucción nos devuelve una lista donde cada elemento es una tupla conformada por dos valores ('Sigla', 'Medalla') adicional a esto vemos que 'Medalla' es nuestro valor llave del diccionario valoresMedallas, esto lo aprovechamos para acceder al valor y reemplazarlo por el valor numérico de cada medalla"
      ],
      "metadata": {
        "id": "Pkjv5GX6vOFN"
      }
    },
    {
      "cell_type": "code",
      "source": [
        "paisesMedallas.map(lambda x: (x[1][1][1],valoresMedallas[x[1][0]])).take(4)"
      ],
      "metadata": {
        "colab": {
          "base_uri": "https://localhost:8080/"
        },
        "id": "3FnyrEBAXXv8",
        "outputId": "14d0af54-2f17-40cb-85fe-53b0a3c7f7ac"
      },
      "execution_count": null,
      "outputs": [
        {
          "output_type": "execute_result",
          "data": {
            "text/plain": [
              "[('SWE', 7), ('FIN', 4), ('NOR', 7), ('NOR', 4)]"
            ]
          },
          "metadata": {},
          "execution_count": 38
        }
      ]
    },
    {
      "cell_type": "code",
      "source": [
        "paisesMedallas = paisesMedallas.map(lambda x: (x[1][1][1],valoresMedallas[x[1][0]]))"
      ],
      "metadata": {
        "id": "o_yVGPqKO_2s"
      },
      "execution_count": null,
      "outputs": []
    },
    {
      "cell_type": "markdown",
      "source": [
        "#Ejemplo con la función reduceByKey\n",
        "La función reduceByKey en Spark es una transformación que se utiliza para agrupar los elementos de un RDD por clave y luego aplicar una función de reducción a esos grupos. La operación de reducción se realiza por clave, lo que significa que se aplica a todos los elementos que tienen la misma clave.\n",
        "\n",
        "La función de reducción debe ser una función que tome dos argumentos y devuelva un resultado reducido. Esta función se aplica a los pares de valores asociados a una misma clave en el RDD.\n",
        "\n"
      ],
      "metadata": {
        "id": "2Dd7pfebOryv"
      }
    },
    {
      "cell_type": "code",
      "source": [
        "#from pyspark import SparkContext\n",
        "\n",
        "# Configuración del SparkContext\n",
        "#sc = SparkContext(\"local\", \"Ejemplo Spark\")\n",
        "\n",
        "# Crear un RDD con pares clave-valor de ejemplo\n",
        "data = [(\"a\", 1), (\"b\", 2), (\"a\", 3), (\"b\", 4), (\"c\", 5)]\n",
        "\n",
        "# Convertir la lista en un RDD\n",
        "rdd = sc.parallelize(data)\n",
        "\n",
        "# Aplicar reduceByKey para sumar los valores por clave\n",
        "resultado = rdd.reduceByKey(lambda x, y: x + y)\n",
        "\n",
        "# Recoger y mostrar los resultados\n",
        "resultados = resultado.collect()\n",
        "print(\"Resultados de reduceByKey:\", resultados)"
      ],
      "metadata": {
        "colab": {
          "base_uri": "https://localhost:8080/"
        },
        "id": "uVtO_fdhUeRV",
        "outputId": "0c7292f9-1f75-4ddc-a28f-06b1c6dbfee7"
      },
      "execution_count": null,
      "outputs": [
        {
          "output_type": "stream",
          "name": "stdout",
          "text": [
            "Resultados de reduceByKey: [('a', 4), ('b', 6), ('c', 5)]\n"
          ]
        }
      ]
    },
    {
      "cell_type": "markdown",
      "source": [
        "En este ejemplo, el RDD inicial contiene pares clave-valor, donde las claves son letras y los valores son números. La función reduceByKey se utiliza para sumar los valores asociados a cada clave. El resultado será un nuevo RDD donde las claves son únicas y los valores son el resultado de la suma de los valores correspondientes a esa clave."
      ],
      "metadata": {
        "id": "TWPlRJi9Uljg"
      }
    },
    {
      "cell_type": "markdown",
      "source": [
        "Con la siguiente instrucción utilizamos la función reduceByKey para sumar los valores asociados a la llave y como esta función debe recibir dos parámetros le pasamos como argumento la función add. Finalmente con sortBy ordenamos los valores de forma ascendente"
      ],
      "metadata": {
        "id": "xcsfwllX0STg"
      }
    },
    {
      "cell_type": "code",
      "source": [
        "conclusion = paisesMedallas.reduceByKey((add)).sortBy(lambda x: (x[0]), ascending=True)"
      ],
      "metadata": {
        "id": "53Cj7pEyMZGz"
      },
      "execution_count": null,
      "outputs": []
    },
    {
      "cell_type": "code",
      "source": [
        "conclusion.take(35)"
      ],
      "metadata": {
        "colab": {
          "base_uri": "https://localhost:8080/"
        },
        "id": "nUGOeSX7VQny",
        "outputId": "72b60e21-2594-48ba-9968-02f79955b330"
      },
      "execution_count": null,
      "outputs": [
        {
          "output_type": "execute_result",
          "data": {
            "text/plain": [
              "[('AFG', 8),\n",
              " ('AHO', 5),\n",
              " ('ALB', 16),\n",
              " ('ALG', 87),\n",
              " ('ANZ', 193),\n",
              " ('ARG', 1465),\n",
              " ('ARM', 90),\n",
              " ('AUS', 6755),\n",
              " ('AUT', 2292),\n",
              " ('AZE', 206),\n",
              " ('BAH', 198),\n",
              " ('BAR', 4),\n",
              " ('BDI', 12),\n",
              " ('BEL', 2372),\n",
              " ('BER', 4),\n",
              " ('BLR', 575),\n",
              " ('BOH', 53),\n",
              " ('BOT', 5),\n",
              " ('BRA', 2402),\n",
              " ('BRN', 16),\n",
              " ('BUL', 1678),\n",
              " ('CAN', 7209),\n",
              " ('CHI', 146),\n",
              " ('CHN', 5362),\n",
              " ('CIV', 16),\n",
              " ('CMR', 154),\n",
              " ('COL', 131),\n",
              " ('CRC', 20),\n",
              " ('CRO', 730),\n",
              " ('CUB', 2262),\n",
              " ('CYP', 5),\n",
              " ('CZE', 594),\n",
              " ('DEN', 3156),\n",
              " ('DJI', 4),\n",
              " ('DOM', 39)]"
            ]
          },
          "metadata": {},
          "execution_count": 41
        }
      ]
    },
    {
      "cell_type": "code",
      "source": [
        "import matplotlib.pyplot as plt"
      ],
      "metadata": {
        "id": "3-vr-RZfcZ_W"
      },
      "execution_count": null,
      "outputs": []
    },
    {
      "cell_type": "code",
      "source": [
        "plt.figure(figsize=(10,5))\n",
        "plt.scatter(conclusion.map(lambda x:x[0]).take(50),conclusion.map(lambda x:x[1]).take(50)\n",
        "            , color='r')\n",
        "plt.xticks(rotation=90)\n",
        "plt.xlabel('Paises',labelpad=15)\n",
        "plt.ylabel('Puntos',labelpad=15)\n",
        "plt.show()"
      ],
      "metadata": {
        "colab": {
          "base_uri": "https://localhost:8080/",
          "height": 500
        },
        "id": "w-8tQn8IcZIS",
        "outputId": "b8902ad3-7548-4424-bbf2-e7ea9993d71f"
      },
      "execution_count": null,
      "outputs": [
        {
          "output_type": "display_data",
          "data": {
            "text/plain": [
              "<Figure size 1000x500 with 1 Axes>"
            ],
            "image/png": "[encoded data removed]"
          },
          "metadata": {}
        }
      ]
    },
    {
      "cell_type": "markdown",
      "source": [
        "#Segunda manera de resolver el ejercicio sobre la suma de los valores de las medellas de cada país, sin utilizar la función add\n",
        "La variable paisesMedallas almacena el join de las tres tablas"
      ],
      "metadata": {
        "id": "sg9dJ7GY9MQs"
      }
    },
    {
      "cell_type": "code",
      "source": [
        "paisesMedallas.take(5)"
      ],
      "metadata": {
        "colab": {
          "base_uri": "https://localhost:8080/"
        },
        "id": "RKOrpNJ5CYLW",
        "outputId": "76e65d18-0af1-4019-be37-a717a13d2166"
      },
      "execution_count": null,
      "outputs": [
        {
          "output_type": "execute_result",
          "data": {
            "text/plain": [
              "[('SWE', 7), ('FIN', 4), ('NOR', 7), ('NOR', 4), ('NOR', 5)]"
            ]
          },
          "metadata": {},
          "execution_count": 48
        }
      ]
    },
    {
      "cell_type": "markdown",
      "source": [
        "# Ejemplo de la función groupByKey\n",
        "La función groupByKey en Spark es una transformación que agrupa los elementos de un RDD por clave, creando pares clave-iterador. La operación de agrupación se realiza por clave, de manera que los elementos que comparten la misma clave se agrupan juntos y se obtiene un iterador sobre esos elementos.\n",
        "\n",
        "El resultado de groupByKey es un nuevo RDD donde cada elemento es un par clave-iterador. Puedes usar este iterador para iterar sobre todos los elementos asociados a una clave específica.\n"
      ],
      "metadata": {
        "id": "dqLkiyZTEwCL"
      }
    },
    {
      "cell_type": "code",
      "source": [
        "#from pyspark import SparkContext\n",
        "\n",
        "# Configuración del SparkContext\n",
        "#sc = SparkContext(\"local\", \"Ejemplo Spark\")\n",
        "\n",
        "# Crear un RDD con pares clave-valor de ejemplo\n",
        "data = [(\"a\", 1), (\"b\", 2), (\"a\", 3), (\"b\", 4), (\"c\", 5)]\n",
        "\n",
        "# Convertir la lista en un RDD\n",
        "rdd = sc.parallelize(data)\n",
        "\n",
        "# Aplicar groupByKey para agrupar por clave\n",
        "resultado = rdd.groupByKey()\n",
        "\n",
        "# Recoger y mostrar los resultados\n",
        "resultados = resultado.collect()\n",
        "\n",
        "# Imprimir los resultados\n",
        "for key, values in resultados:\n",
        "    print(f\"Clave: {key}, Valores: {list(values)}\")"
      ],
      "metadata": {
        "colab": {
          "base_uri": "https://localhost:8080/"
        },
        "id": "eWQaQyAfEu5Y",
        "outputId": "ed24f733-4d13-4e58-f821-4b217bd3cbf5"
      },
      "execution_count": null,
      "outputs": [
        {
          "output_type": "stream",
          "name": "stdout",
          "text": [
            "Clave: a, Valores: [1, 3]\n",
            "Clave: b, Valores: [2, 4]\n",
            "Clave: c, Valores: [5]\n"
          ]
        }
      ]
    },
    {
      "cell_type": "code",
      "source": [
        "resultado.collect()"
      ],
      "metadata": {
        "colab": {
          "base_uri": "https://localhost:8080/"
        },
        "id": "_gpcUliyGp9X",
        "outputId": "6e9032cb-f092-4a58-99e9-63b17242bd27"
      },
      "execution_count": null,
      "outputs": [
        {
          "output_type": "execute_result",
          "data": {
            "text/plain": [
              "[('a', <pyspark.resultiterable.ResultIterable at 0x7fbc8da41ba0>),\n",
              " ('b', <pyspark.resultiterable.ResultIterable at 0x7fbc8da43970>),\n",
              " ('c', <pyspark.resultiterable.ResultIterable at 0x7fbc8da436a0>)]"
            ]
          },
          "metadata": {},
          "execution_count": 50
        }
      ]
    },
    {
      "cell_type": "markdown",
      "source": [
        "En este ejemplo, el RDD inicial contiene pares clave-valor, donde las claves son letras y los valores son números. La función groupByKey se utiliza para agrupar los valores asociados a cada clave. El resultado es un nuevo RDD donde cada elemento es un par clave-iterador."
      ],
      "metadata": {
        "id": "8LVUyWZUHwz3"
      }
    },
    {
      "cell_type": "markdown",
      "source": [
        "#Ejemplo mapValues\n",
        "\n",
        "La función mapValues en Spark es una transformación que se aplica a cada valor de un par clave-valor en un RDD, manteniendo la clave sin cambios. La idea es aplicar una función específica solo a los valores, dejando las claves inalteradas.\n",
        "\n",
        "La función proporcionada como argumento se aplica a cada valor del RDD, y la clave se mantiene igual. Esto es útil cuando solo deseas transformar los valores de un RDD manteniendo las claves inalteradas.\n"
      ],
      "metadata": {
        "id": "eA_oE17AMA5s"
      }
    },
    {
      "cell_type": "code",
      "source": [
        "#from pyspark import SparkContext\n",
        "\n",
        "# Configuración del SparkContext\n",
        "#sc = SparkContext(\"local\", \"Ejemplo Spark\")\n",
        "\n",
        "# Crear un RDD con pares clave-valor de ejemplo\n",
        "data = [(\"a\", 1), (\"b\", 2), (\"a\", 3), (\"b\", 4), (\"c\", 5)]\n",
        "\n",
        "# Convertir la lista en un RDD\n",
        "rdd = sc.parallelize(data)\n",
        "\n",
        "# Aplicar mapValues para duplicar cada valor\n",
        "resultado = rdd.mapValues(lambda x: x * 2)\n",
        "\n",
        "# Recoger y mostrar los resultados\n",
        "resultados = resultado.collect()\n",
        "print(\"Resultados de mapValues:\", resultados)"
      ],
      "metadata": {
        "colab": {
          "base_uri": "https://localhost:8080/"
        },
        "id": "5lSfKAE8Mn8g",
        "outputId": "11266372-1d6f-4e61-c50a-e25c1f70618e"
      },
      "execution_count": null,
      "outputs": [
        {
          "output_type": "stream",
          "name": "stdout",
          "text": [
            "Resultados de mapValues: [('a', 2), ('b', 4), ('a', 6), ('b', 8), ('c', 10)]\n"
          ]
        }
      ]
    },
    {
      "cell_type": "markdown",
      "source": [
        "En este ejemplo, el RDD inicial contiene pares clave-valor, donde las claves son letras y los valores son números. La función mapValues se utiliza para duplicar cada valor en el RDD, mientras que las claves permanecen inalteradas."
      ],
      "metadata": {
        "id": "1fNYBlEZMz3w"
      }
    },
    {
      "cell_type": "code",
      "source": [
        "paisesPuntaje = paisesMedallas.map(lambda x: (x[0],x[1]))\\\n",
        "        .groupByKey()\\\n",
        "        .mapValues(sum)\\\n",
        "        .sortBy(lambda x: x[1], ascending=True)"
      ],
      "metadata": {
        "id": "f4axqZxve66z"
      },
      "execution_count": null,
      "outputs": []
    },
    {
      "cell_type": "code",
      "source": [
        "paisesPuntaje.take(35)"
      ],
      "metadata": {
        "colab": {
          "base_uri": "https://localhost:8080/"
        },
        "id": "wU1aehGQfUB9",
        "outputId": "041b3c76-3cc3-4c08-a2c3-4ed4f671e275"
      },
      "execution_count": null,
      "outputs": [
        {
          "output_type": "execute_result",
          "data": {
            "text/plain": [
              "[('IRQ', 4),\n",
              " ('BAR', 4),\n",
              " ('MRI', 4),\n",
              " ('ERI', 4),\n",
              " ('GUY', 4),\n",
              " ('WIF', 4),\n",
              " ('MON', 4),\n",
              " ('DJI', 4),\n",
              " ('TOG', 4),\n",
              " ('BER', 4),\n",
              " ('CYP', 5),\n",
              " ('GUA', 5),\n",
              " ('TKM', 5),\n",
              " ('AHO', 5),\n",
              " ('TGA', 5),\n",
              " ('SUD', 5),\n",
              " ('ISV', 5),\n",
              " ('BOT', 5),\n",
              " ('SEN', 5),\n",
              " ('GAB', 5),\n",
              " ('JOR', 7),\n",
              " ('UAE', 7),\n",
              " ('NEP', 7),\n",
              " ('AFG', 8),\n",
              " ('UAR', 9),\n",
              " ('ZAM', 9),\n",
              " ('NIG', 9),\n",
              " ('SRI', 10),\n",
              " ('TAN', 10),\n",
              " ('SUR', 11),\n",
              " ('MOZ', 11),\n",
              " ('BDI', 12),\n",
              " ('GRN', 12),\n",
              " ('ECU', 12),\n",
              " ('KGZ', 13)]"
            ]
          },
          "metadata": {},
          "execution_count": 45
        }
      ]
    },
    {
      "cell_type": "markdown",
      "source": [],
      "metadata": {
        "id": "fMXNqsD5NKkh"
      }
    },
    {
      "cell_type": "code",
      "source": [
        "#sc.stop()  #para liberar la memoria"
      ],
      "metadata": {
        "id": "IifoEWGctL7P"
      },
      "execution_count": null,
      "outputs": []
    }
  ]
}