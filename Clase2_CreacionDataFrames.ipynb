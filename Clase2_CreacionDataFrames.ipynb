{
  "nbformat": 4,
  "nbformat_minor": 0,
  "metadata": {
    "colab": {
      "provenance": [],
      "toc_visible": true,
      "authorship_tag": "ABX9TyPmcGftxzuccI+YcW5OuJ87",
      "include_colab_link": true
    },
    "kernelspec": {
      "name": "python3",
      "display_name": "Python 3"
    },
    "language_info": {
      "name": "python"
    }
  },
  "cells": [
    {
      "cell_type": "markdown",
      "metadata": {
        "id": "view-in-github",
        "colab_type": "text"
      },
      "source": [
        "<a href=\"https://colab.research.google.com/github/angelkp570/CursoSpark/blob/master/Clase2_CreacionDataFrames.ipynb\" target=\"_parent\"><img src=\"https://colab.research.google.com/assets/colab-badge.svg\" alt=\"Open In Colab\"/></a>"
      ]
    },
    {
      "cell_type": "code",
      "execution_count": null,
      "metadata": {
        "id": "6EorFgBGP8MB"
      },
      "outputs": [],
      "source": [
        "# innstall java\n",
        "!apt-get install openjdk-8-jdk-headless -qq > /dev/null\n",
        "\n",
        "# install spark (change the version number if needed)\n",
        "!wget -q https://archive.apache.org/dist/spark/spark-3.0.0/spark-3.0.0-bin-hadoop3.2.tgz\n",
        "\n",
        "# unzip the spark file to the current folder\n",
        "!tar xf spark-3.0.0-bin-hadoop3.2.tgz\n",
        "\n",
        "# set your spark folder to your system path environment.\n",
        "import os\n",
        "os.environ[\"JAVA_HOME\"] = \"/usr/lib/jvm/java-8-openjdk-amd64\"\n",
        "os.environ[\"SPARK_HOME\"] = \"/content/spark-3.0.0-bin-hadoop3.2\"\n",
        "\n",
        "\n",
        "# install findspark using pip\n",
        "!pip install -q findspark"
      ]
    },
    {
      "cell_type": "markdown",
      "source": [
        "#DataFrames\n",
        "\n",
        "\n",
        "*   Los DataFrames permiten procesar como una tabla de base de datos\n",
        "*   Poseen estructura\n",
        "*   Optimización superior debido al optimizador de consultas Catalyst y el motor de ejecución Tungsten\n",
        "\n",
        "\n",
        "\n",
        "\n",
        "\n"
      ],
      "metadata": {
        "id": "fpTF-UgaQbD3"
      }
    },
    {
      "cell_type": "code",
      "source": [
        "import findspark\n",
        "findspark.init()"
      ],
      "metadata": {
        "id": "yP2nbEOAS-P2"
      },
      "execution_count": null,
      "outputs": []
    },
    {
      "cell_type": "code",
      "source": [
        "from pyspark import SparkContext, SparkConf\n",
        "from pyspark.sql import SparkSession\n",
        "\n",
        "from pyspark.sql.types import StructType, StructField, IntegerType, StringType, FloatType, Row\n",
        "\n",
        "from pyspark.sql import SQLContext"
      ],
      "metadata": {
        "id": "zPYidxuZSDG4"
      },
      "execution_count": null,
      "outputs": []
    },
    {
      "cell_type": "code",
      "source": [
        "# ConfigureSparkUI\n",
        "conf = SparkConf().set('spark.ui.port', '4050')"
      ],
      "metadata": {
        "id": "zLo3xCr4gkO1"
      },
      "execution_count": null,
      "outputs": []
    },
    {
      "cell_type": "code",
      "source": [
        "spark = SparkContext(master=\"local\", appName=\"DataFrames\",conf=conf)\n",
        "sqlContext = SQLContext(spark)"
      ],
      "metadata": {
        "id": "qnv7sI6tTKWB"
      },
      "execution_count": null,
      "outputs": []
    },
    {
      "cell_type": "code",
      "source": [
        "spark"
      ],
      "metadata": {
        "colab": {
          "base_uri": "https://localhost:8080/",
          "height": 196
        },
        "id": "6Wi7BWTwhLv0",
        "outputId": "b2a2c0c9-6f1a-4c7e-a38b-734ad8cb95f8"
      },
      "execution_count": null,
      "outputs": [
        {
          "output_type": "execute_result",
          "data": {
            "text/plain": [
              "<SparkContext master=local appName=DataFrames>"
            ],
            "text/html": [
              "\n",
              "        <div>\n",
              "            <p><b>SparkContext</b></p>\n",
              "\n",
              "            <p><a href=\"http://954a8d5a957b:4050\">Spark UI</a></p>\n",
              "\n",
              "            <dl>\n",
              "              <dt>Version</dt>\n",
              "                <dd><code>v3.0.0</code></dd>\n",
              "              <dt>Master</dt>\n",
              "                <dd><code>local</code></dd>\n",
              "              <dt>AppName</dt>\n",
              "                <dd><code>DataFrames</code></dd>\n",
              "            </dl>\n",
              "        </div>\n",
              "        "
            ]
          },
          "metadata": {},
          "execution_count": 6
        }
      ]
    },
    {
      "cell_type": "markdown",
      "source": [
        "#Spark UI\n",
        "##Install ngrok for access to Spark UI on Colab [optional]\n",
        "- You'll need a free account: https://dashboard.ngrok.com/signup\n",
        "-Place the authorization code into the cell below\n",
        "-Link to Spark UI will appear\n",
        "-If it fails, restart the runtime and try again\n",
        "\n"
      ],
      "metadata": {
        "id": "-3fIuqoxdWr-"
      }
    },
    {
      "cell_type": "code",
      "source": [
        "# Get the software to setup the Spark UI connection\n",
        "!wget -qnc https://bin.equinox.io/c/bNyj1mQVY4c/ngrok-v3-stable-linux-amd64.tgz\n",
        "!tar zxf ngrok-v3-stable-linux-amd64.tgz\n",
        "get_ipython().system_raw('./ngrok http 4050 &')"
      ],
      "metadata": {
        "id": "nsVIU01AeJyx"
      },
      "execution_count": null,
      "outputs": []
    },
    {
      "cell_type": "code",
      "source": [
        "# Replace AUTH_CODE with your ngrok authtoken (https://dashboard.ngrok.com/signup)\n",
        "# Run before accessing the web link\n",
        "# !./ngrok config add-authtoken AUTH_CODE\n",
        "!./ngrok config add-authtoken 2bgeInxzvLrsxXrw5KLPzNCxS7W_4UkDXfYVakxFAW9YeLm2X"
      ],
      "metadata": {
        "colab": {
          "base_uri": "https://localhost:8080/"
        },
        "id": "3hPeRTOUeK83",
        "outputId": "9b16ede7-a34c-4e3c-8766-15b9288db4e0"
      },
      "execution_count": null,
      "outputs": [
        {
          "output_type": "stream",
          "name": "stdout",
          "text": [
            "Authtoken saved to configuration file: /root/.config/ngrok/ngrok.yml\n"
          ]
        }
      ]
    },
    {
      "cell_type": "code",
      "source": [
        "!sleep 5\n",
        "!curl -s http://localhost:4040/api/tunnels | grep -Po 'public_url\":\"(?=https)\\K[^\"]*'"
      ],
      "metadata": {
        "colab": {
          "base_uri": "https://localhost:8080/"
        },
        "id": "q5DcZnANeP3g",
        "outputId": "a9463512-4aef-470f-ea06-274c0fb58b37"
      },
      "execution_count": null,
      "outputs": [
        {
          "output_type": "stream",
          "name": "stdout",
          "text": [
            "https://2956-104-196-11-36.ngrok-free.app\n"
          ]
        }
      ]
    },
    {
      "cell_type": "code",
      "source": [
        "spark"
      ],
      "metadata": {
        "colab": {
          "base_uri": "https://localhost:8080/",
          "height": 196
        },
        "id": "2Gu1gKxwgB48",
        "outputId": "502c5554-f829-4b55-b818-5ea1cc557368"
      },
      "execution_count": null,
      "outputs": [
        {
          "output_type": "execute_result",
          "data": {
            "text/plain": [
              "<SparkContext master=local appName=DataFrames>"
            ],
            "text/html": [
              "\n",
              "        <div>\n",
              "            <p><b>SparkContext</b></p>\n",
              "\n",
              "            <p><a href=\"http://954a8d5a957b:4050\">Spark UI</a></p>\n",
              "\n",
              "            <dl>\n",
              "              <dt>Version</dt>\n",
              "                <dd><code>v3.0.0</code></dd>\n",
              "              <dt>Master</dt>\n",
              "                <dd><code>local</code></dd>\n",
              "              <dt>AppName</dt>\n",
              "                <dd><code>DataFrames</code></dd>\n",
              "            </dl>\n",
              "        </div>\n",
              "        "
            ]
          },
          "metadata": {},
          "execution_count": 11
        }
      ]
    },
    {
      "cell_type": "code",
      "source": [
        "#!wget https://bin.equinox.io/c/4VmDzA7iaHb/ngrok-stable-linux-amd64.zip\n",
        "#!unzip ngrok-stable-linux-amd64.zip\n",
        "#get_ipython().system_raw('./ngrok http 4050 &')\n",
        "#!curl -s http://localhost:4040/api/tunnels"
      ],
      "metadata": {
        "id": "npReOLgnhdJu"
      },
      "execution_count": null,
      "outputs": []
    },
    {
      "cell_type": "markdown",
      "source": [
        "Cargamos el archivo \"juegos.csv\"\n",
        "\n",
        "Primero creamos un esquema y con StructType generamos el esqueleto que necesitamos.\n",
        "Con StructField indicamos el nombre de las columnas, el tipo de dato que puede ser entero o string y si el dato es obligatorio o no\n",
        "Con option le indicamos que el dataFrame a cargar posee un header"
      ],
      "metadata": {
        "id": "-RCA0rrM2_W2"
      }
    },
    {
      "cell_type": "code",
      "source": [
        "juegoSchema = StructType([\n",
        "    StructField(\"juego_id\", IntegerType(), False),\n",
        "    StructField(\"anio\", StringType(), False),\n",
        "    StructField(\"temporada\", StringType(), False),\n",
        "    StructField(\"ciudad\", StringType(), False)\n",
        "])\n",
        "\n",
        "juegoDF = sqlContext.read.schema(juegoSchema).option(\"header\", \"true\").csv(\"juegos.csv\")"
      ],
      "metadata": {
        "id": "pmfyQHHiUpn3"
      },
      "execution_count": null,
      "outputs": []
    },
    {
      "cell_type": "code",
      "source": [
        "juegoDF.take(5)"
      ],
      "metadata": {
        "colab": {
          "base_uri": "https://localhost:8080/"
        },
        "id": "R7GUc82ecKZz",
        "outputId": "9bf452a9-959f-4172-ef2b-7f21e36aacdb"
      },
      "execution_count": null,
      "outputs": [
        {
          "output_type": "execute_result",
          "data": {
            "text/plain": [
              "[Row(juego_id=1, anio='1896 Verano', temporada='1896', ciudad='Verano'),\n",
              " Row(juego_id=2, anio='1900 Verano', temporada='1900', ciudad='Verano'),\n",
              " Row(juego_id=3, anio='1904 Verano', temporada='1904', ciudad='Verano'),\n",
              " Row(juego_id=4, anio='1906 Verano', temporada='1906', ciudad='Verano'),\n",
              " Row(juego_id=5, anio='1908 Verano', temporada='1908', ciudad='Verano')]"
            ]
          },
          "metadata": {},
          "execution_count": 19
        }
      ]
    },
    {
      "cell_type": "code",
      "source": [
        "juegoDF.show(5)"
      ],
      "metadata": {
        "id": "m1ihbYrGcWlE",
        "colab": {
          "base_uri": "https://localhost:8080/"
        },
        "outputId": "501b904b-0bc0-4e26-a8fe-dd2fb71c0857"
      },
      "execution_count": null,
      "outputs": [
        {
          "output_type": "stream",
          "name": "stdout",
          "text": [
            "+--------+-----------+---------+------+\n",
            "|juego_id|       anio|temporada|ciudad|\n",
            "+--------+-----------+---------+------+\n",
            "|       1|1896 Verano|     1896|Verano|\n",
            "|       2|1900 Verano|     1900|Verano|\n",
            "|       3|1904 Verano|     1904|Verano|\n",
            "|       4|1906 Verano|     1906|Verano|\n",
            "|       5|1908 Verano|     1908|Verano|\n",
            "+--------+-----------+---------+------+\n",
            "only showing top 5 rows\n",
            "\n"
          ]
        }
      ]
    },
    {
      "cell_type": "code",
      "source": [
        "spark"
      ],
      "metadata": {
        "colab": {
          "base_uri": "https://localhost:8080/",
          "height": 219
        },
        "id": "72Ub2yAGdx8d",
        "outputId": "948a3fb6-70a3-4c0e-ad01-4d0e5f3014a4"
      },
      "execution_count": null,
      "outputs": [
        {
          "output_type": "execute_result",
          "data": {
            "text/plain": [
              "<pyspark.sql.session.SparkSession at 0x78e7f020e530>"
            ],
            "text/html": [
              "\n",
              "            <div>\n",
              "                <p><b>SparkSession - in-memory</b></p>\n",
              "                \n",
              "        <div>\n",
              "            <p><b>SparkContext</b></p>\n",
              "\n",
              "            <p><a href=\"http://e7f2cf48f56e:4050\">Spark UI</a></p>\n",
              "\n",
              "            <dl>\n",
              "              <dt>Version</dt>\n",
              "                <dd><code>v3.0.0</code></dd>\n",
              "              <dt>Master</dt>\n",
              "                <dd><code>local</code></dd>\n",
              "              <dt>AppName</dt>\n",
              "                <dd><code>DataFrames</code></dd>\n",
              "            </dl>\n",
              "        </div>\n",
              "        \n",
              "            </div>\n",
              "        "
            ]
          },
          "metadata": {},
          "execution_count": 13
        }
      ]
    }
  ]
}