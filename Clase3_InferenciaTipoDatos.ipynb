{
  "nbformat": 4,
  "nbformat_minor": 0,
  "metadata": {
    "colab": {
      "provenance": [],
      "authorship_tag": "ABX9TyNs0OHSfvaEoLasJpacd0+d",
      "include_colab_link": true
    },
    "kernelspec": {
      "name": "python3",
      "display_name": "Python 3"
    },
    "language_info": {
      "name": "python"
    }
  },
  "cells": [
    {
      "cell_type": "markdown",
      "metadata": {
        "id": "view-in-github",
        "colab_type": "text"
      },
      "source": [
        "<a href=\"https://colab.research.google.com/github/angelkp570/CursoSpark/blob/master/Clase3_InferenciaTipoDatos.ipynb\" target=\"_parent\"><img src=\"https://colab.research.google.com/assets/colab-badge.svg\" alt=\"Open In Colab\"/></a>"
      ]
    },
    {
      "cell_type": "code",
      "execution_count": 1,
      "metadata": {
        "id": "mVpRmv168qt6"
      },
      "outputs": [],
      "source": [
        "# innstall java\n",
        "!apt-get install openjdk-8-jdk-headless -qq > /dev/null\n",
        "\n",
        "# install spark (change the version number if needed)\n",
        "!wget -q https://archive.apache.org/dist/spark/spark-3.0.0/spark-3.0.0-bin-hadoop3.2.tgz\n",
        "\n",
        "# unzip the spark file to the current folder\n",
        "!tar xf spark-3.0.0-bin-hadoop3.2.tgz\n",
        "\n",
        "# set your spark folder to your system path environment.\n",
        "import os\n",
        "os.environ[\"JAVA_HOME\"] = \"/usr/lib/jvm/java-8-openjdk-amd64\"\n",
        "os.environ[\"SPARK_HOME\"] = \"/content/spark-3.0.0-bin-hadoop3.2\"\n",
        "\n",
        "\n",
        "# install findspark using pip\n",
        "!pip install -q findspark"
      ]
    },
    {
      "cell_type": "code",
      "source": [
        "import findspark\n",
        "findspark.init()"
      ],
      "metadata": {
        "id": "fghEpkL4C9Bm"
      },
      "execution_count": 2,
      "outputs": []
    },
    {
      "cell_type": "code",
      "source": [
        "from pyspark import SparkContext, SparkConf\n",
        "from pyspark.sql import SparkSession\n",
        "\n",
        "from pyspark.sql.types import StructType, StructField, IntegerType, StringType, FloatType, Row\n",
        "\n",
        "from pyspark.sql import SQLContext"
      ],
      "metadata": {
        "id": "qsICnBVfC_mN"
      },
      "execution_count": 14,
      "outputs": []
    },
    {
      "cell_type": "code",
      "source": [
        "# ConfigureSparkUI\n",
        "conf = SparkConf().set('spark.ui.port', '4050')"
      ],
      "metadata": {
        "id": "uGYP0bhHDE4Y"
      },
      "execution_count": 4,
      "outputs": []
    },
    {
      "cell_type": "code",
      "source": [
        "sc = SparkContext(master=\"local\", appName=\"DataFrames\",conf=conf)"
      ],
      "metadata": {
        "id": "KAgewP0gDHMh"
      },
      "execution_count": 5,
      "outputs": []
    },
    {
      "cell_type": "code",
      "source": [
        "sqlContext = SQLContext(sc)"
      ],
      "metadata": {
        "id": "EuUyFiQUAs4M"
      },
      "execution_count": 19,
      "outputs": []
    },
    {
      "cell_type": "code",
      "source": [
        "deportistaOlimpicoRDD = sc.textFile(\"deportista.csv\").map(lambda l : l.split(\",\"))\n",
        "deportistaOlimpicoRDD2 = sc.textFile(\"deportista2.csv\").map(lambda l : l.split(\",\"))\n",
        "\n",
        "deportistaOlimpicoRDD = deportistaOlimpicoRDD.union(deportistaOlimpicoRDD2)"
      ],
      "metadata": {
        "id": "EkSlz7ifH53t"
      },
      "execution_count": 6,
      "outputs": []
    },
    {
      "cell_type": "code",
      "source": [
        "deportistaOlimpicoRDD.take(5)"
      ],
      "metadata": {
        "id": "vtR4muWpKJVg",
        "outputId": "f0e103fd-7f10-4a55-998f-73695d564627",
        "colab": {
          "base_uri": "https://localhost:8080/"
        }
      },
      "execution_count": 7,
      "outputs": [
        {
          "output_type": "execute_result",
          "data": {
            "text/plain": [
              "[['deportista_id', 'nombre', 'genero', 'edad', 'altura', 'peso', 'equipo_id'],\n",
              " ['1', 'A Dijiang', '1', '24', '180', '80', '199'],\n",
              " ['2', 'A Lamusi', '1', '23', '170', '60', '199'],\n",
              " ['3', 'Gunnar Nielsen Aaby', '1', '24', '0', '0', '273'],\n",
              " ['4', 'Edgar Lindenau Aabye', '1', '34', '0', '0', '278']]"
            ]
          },
          "metadata": {},
          "execution_count": 7
        }
      ]
    },
    {
      "cell_type": "code",
      "source": [
        "def eliminaEncabezado(indice, interador):\n",
        "  return iter(list(interador)[1:])"
      ],
      "metadata": {
        "id": "RTq5sn14524-"
      },
      "execution_count": 10,
      "outputs": []
    },
    {
      "cell_type": "code",
      "source": [
        "deportistaOlimpicoRDD = deportistaOlimpicoRDD.mapPartitionsWithIndex(eliminaEncabezado)"
      ],
      "metadata": {
        "id": "WAFR6p-6pT1D"
      },
      "execution_count": 12,
      "outputs": []
    },
    {
      "cell_type": "code",
      "source": [
        "deportistaOlimpicoRDD.take(5)"
      ],
      "metadata": {
        "colab": {
          "base_uri": "https://localhost:8080/"
        },
        "id": "EHYAuNEW1Jjn",
        "outputId": "6bf30de7-8eb8-47c4-d962-bdf92f11864e"
      },
      "execution_count": 13,
      "outputs": [
        {
          "output_type": "execute_result",
          "data": {
            "text/plain": [
              "[['1', 'A Dijiang', '1', '24', '180', '80', '199'],\n",
              " ['2', 'A Lamusi', '1', '23', '170', '60', '199'],\n",
              " ['3', 'Gunnar Nielsen Aaby', '1', '24', '0', '0', '273'],\n",
              " ['4', 'Edgar Lindenau Aabye', '1', '34', '0', '0', '278'],\n",
              " ['5', 'Christine Jacoba Aaftink', '2', '21', '185', '82', '705']]"
            ]
          },
          "metadata": {},
          "execution_count": 13
        }
      ]
    },
    {
      "cell_type": "code",
      "source": [
        "deportistaOlimpicoRDD = deportistaOlimpicoRDD.map(lambda l: (\n",
        "    int(l[0]),\n",
        "    l[1],\n",
        "    int(l[2]),\n",
        "    int(l[3]),\n",
        "    int(l[4]),\n",
        "    float(l[5]),\n",
        "    int(l[6])\n",
        "    ))"
      ],
      "metadata": {
        "id": "hyQO4e0Y2i0w"
      },
      "execution_count": 15,
      "outputs": []
    },
    {
      "cell_type": "code",
      "source": [
        "schema = StructType([\n",
        "    StructField(\"deportista_id\", IntegerType(), False),\n",
        "    StructField(\"nombre\", StringType(), False),\n",
        "    StructField(\"genero\", IntegerType(), False),\n",
        "    StructField(\"edad\", IntegerType(), False),\n",
        "    StructField(\"altura\", IntegerType(), False),\n",
        "    StructField(\"peso\", FloatType(), False),\n",
        "    StructField(\"equipo_id\", IntegerType(), False)\n",
        "])"
      ],
      "metadata": {
        "id": "RbvTxjsc41PZ"
      },
      "execution_count": 17,
      "outputs": []
    },
    {
      "cell_type": "code",
      "source": [
        "sqlContext.createDataFrame(deportistaOlimpicoRDD, schema).show(5)"
      ],
      "metadata": {
        "colab": {
          "base_uri": "https://localhost:8080/"
        },
        "id": "snqKakS09Y7Q",
        "outputId": "4caa4a32-d49c-44f2-f693-9125289bb87f"
      },
      "execution_count": 20,
      "outputs": [
        {
          "output_type": "stream",
          "name": "stdout",
          "text": [
            "+-------------+--------------------+------+----+------+----+---------+\n",
            "|deportista_id|              nombre|genero|edad|altura|peso|equipo_id|\n",
            "+-------------+--------------------+------+----+------+----+---------+\n",
            "|            1|           A Dijiang|     1|  24|   180|80.0|      199|\n",
            "|            2|            A Lamusi|     1|  23|   170|60.0|      199|\n",
            "|            3| Gunnar Nielsen Aaby|     1|  24|     0| 0.0|      273|\n",
            "|            4|Edgar Lindenau Aabye|     1|  34|     0| 0.0|      278|\n",
            "|            5|Christine Jacoba ...|     2|  21|   185|82.0|      705|\n",
            "+-------------+--------------------+------+----+------+----+---------+\n",
            "only showing top 5 rows\n",
            "\n"
          ]
        }
      ]
    },
    {
      "cell_type": "code",
      "source": [
        "deportistaDF = sqlContext.createDataFrame(deportistaOlimpicoRDD, schema)"
      ],
      "metadata": {
        "id": "j5l3KYliCQGC"
      },
      "execution_count": 21,
      "outputs": []
    }
  ]
}