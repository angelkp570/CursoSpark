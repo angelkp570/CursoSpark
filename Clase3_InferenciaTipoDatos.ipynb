{
  "nbformat": 4,
  "nbformat_minor": 0,
  "metadata": {
    "colab": {
      "provenance": [],
      "authorship_tag": "ABX9TyNJlj4SH063tJKBc6FpAAPM",
      "include_colab_link": true
    },
    "kernelspec": {
      "name": "python3",
      "display_name": "Python 3"
    },
    "language_info": {
      "name": "python"
    }
  },
  "cells": [
    {
      "cell_type": "markdown",
      "metadata": {
        "id": "view-in-github",
        "colab_type": "text"
      },
      "source": [
        "<a href=\"https://colab.research.google.com/github/angelkp570/CursoSpark/blob/master/Clase3_InferenciaTipoDatos.ipynb\" target=\"_parent\"><img src=\"https://colab.research.google.com/assets/colab-badge.svg\" alt=\"Open In Colab\"/></a>"
      ]
    },
    {
      "cell_type": "markdown",
      "source": [
        "# Creación de un DataFrame a través de un RDD\n"
      ],
      "metadata": {
        "id": "sUpZojnchHj7"
      }
    },
    {
      "cell_type": "code",
      "execution_count": null,
      "metadata": {
        "id": "mVpRmv168qt6"
      },
      "outputs": [],
      "source": [
        "# innstall java\n",
        "!apt-get install openjdk-8-jdk-headless -qq > /dev/null\n",
        "\n",
        "# install spark (change the version number if needed)\n",
        "!wget -q https://archive.apache.org/dist/spark/spark-3.0.0/spark-3.0.0-bin-hadoop3.2.tgz\n",
        "\n",
        "# unzip the spark file to the current folder\n",
        "!tar xf spark-3.0.0-bin-hadoop3.2.tgz\n",
        "\n",
        "# set your spark folder to your system path environment.\n",
        "import os\n",
        "os.environ[\"JAVA_HOME\"] = \"/usr/lib/jvm/java-8-openjdk-amd64\"\n",
        "os.environ[\"SPARK_HOME\"] = \"/content/spark-3.0.0-bin-hadoop3.2\"\n",
        "\n",
        "\n",
        "# install findspark using pip\n",
        "!pip install -q findspark"
      ]
    },
    {
      "cell_type": "code",
      "source": [
        "import findspark\n",
        "findspark.init()"
      ],
      "metadata": {
        "id": "fghEpkL4C9Bm"
      },
      "execution_count": null,
      "outputs": []
    },
    {
      "cell_type": "code",
      "source": [
        "from pyspark import SparkContext, SparkConf\n",
        "from pyspark.sql import SparkSession\n",
        "\n",
        "from pyspark.sql.types import StructType, StructField, IntegerType, StringType, FloatType, Row\n",
        "\n",
        "from pyspark.sql import SQLContext"
      ],
      "metadata": {
        "id": "qsICnBVfC_mN"
      },
      "execution_count": null,
      "outputs": []
    },
    {
      "cell_type": "code",
      "source": [
        "from pyspark.sql.functions import *"
      ],
      "metadata": {
        "id": "dC83-l79Vv5p"
      },
      "execution_count": null,
      "outputs": []
    },
    {
      "cell_type": "code",
      "source": [
        "# ConfigureSparkUI\n",
        "conf = SparkConf().set('spark.ui.port', '4050')"
      ],
      "metadata": {
        "id": "uGYP0bhHDE4Y"
      },
      "execution_count": null,
      "outputs": []
    },
    {
      "cell_type": "code",
      "source": [
        "sc = SparkContext(master=\"local\", appName=\"DataFrames\",conf=conf)"
      ],
      "metadata": {
        "id": "KAgewP0gDHMh"
      },
      "execution_count": null,
      "outputs": []
    },
    {
      "cell_type": "code",
      "source": [
        "sqlContext = SQLContext(sc)"
      ],
      "metadata": {
        "id": "EuUyFiQUAs4M"
      },
      "execution_count": null,
      "outputs": []
    },
    {
      "cell_type": "markdown",
      "source": [
        "# Carga del archivo deportista y deportista2"
      ],
      "metadata": {
        "id": "Nb3kP0Ll1Ica"
      }
    },
    {
      "cell_type": "code",
      "source": [
        "deportistaOlimpicoRDD = sc.textFile(\"deportista.csv\").map(lambda l : l.split(\",\"))\n",
        "deportistaOlimpicoRDD2 = sc.textFile(\"deportista2.csv\").map(lambda l : l.split(\",\"))\n",
        "\n",
        "deportistaOlimpicoRDD = deportistaOlimpicoRDD.union(deportistaOlimpicoRDD2)"
      ],
      "metadata": {
        "id": "EkSlz7ifH53t"
      },
      "execution_count": null,
      "outputs": []
    },
    {
      "cell_type": "code",
      "source": [
        "deportistaOlimpicoRDD.take(5)"
      ],
      "metadata": {
        "id": "vtR4muWpKJVg",
        "outputId": "8b7dfcdf-1003-48e2-8592-2cf993df8044",
        "colab": {
          "base_uri": "https://localhost:8080/"
        }
      },
      "execution_count": null,
      "outputs": [
        {
          "output_type": "execute_result",
          "data": {
            "text/plain": [
              "[['deportista_id', 'nombre', 'genero', 'edad', 'altura', 'peso', 'equipo_id'],\n",
              " ['1', 'A Dijiang', '1', '24', '180', '80', '199'],\n",
              " ['2', 'A Lamusi', '1', '23', '170', '60', '199'],\n",
              " ['3', 'Gunnar Nielsen Aaby', '1', '24', '0', '0', '273'],\n",
              " ['4', 'Edgar Lindenau Aabye', '1', '34', '0', '0', '278']]"
            ]
          },
          "metadata": {},
          "execution_count": 9
        }
      ]
    },
    {
      "cell_type": "markdown",
      "source": [
        "Crearemos un DataFrame a través del RDD deportistaOlimpicoRDD pero como poodemos observar este RDD contiene un encabezado. Por esta razón crearemos una función para poder retirar dicho encabezado.\n",
        "\n",
        "Esta función va a recibir dos parámetros, indice e iterador. Esta función va a retornar una lista limpia que ya posee los valores que nosotros queremos.\n",
        "\n",
        "iter() nos devuelve valor a valor lo que nosotros procesamos, aseguramos que devuelva una lista y que sea desde el segundo valor del RDD con esto eliminamos el encabezado  "
      ],
      "metadata": {
        "id": "3E6d8BdThrSd"
      }
    },
    {
      "cell_type": "code",
      "source": [
        "def eliminaEncabezado(indice, iterador):\n",
        "  return iter(list(iterador)[1:])"
      ],
      "metadata": {
        "id": "RTq5sn14524-"
      },
      "execution_count": null,
      "outputs": []
    },
    {
      "cell_type": "markdown",
      "source": [
        "#Ejemplo con función iter()\n",
        "\n",
        "La función iter() en Python se utiliza para obtener un iterador a partir de un objeto iterable. Un iterador es un objeto que permite recorrer los elementos de un iterable, como una lista, tupla o cadena de caracteres, uno a la vez. Puedes usar la función iter() junto con la función next() para obtener y avanzar a través de los elementos del iterable.\n",
        "\n",
        "Aquí hay un ejemplo sencillo que ilustra el uso de iter():"
      ],
      "metadata": {
        "id": "bsBGSAoZoipM"
      }
    },
    {
      "cell_type": "code",
      "source": [
        "# Crear una lista\n",
        "mi_lista = [1, 2, 3, 4, 5]\n",
        "\n",
        "# Obtener un iterador a partir de la lista\n",
        "mi_iterador = iter(mi_lista)\n",
        "\n",
        "# Obtener y mostrar el primer elemento del iterador\n",
        "primer_elemento = next(mi_iterador)\n",
        "print(\"Primer elemento:\", primer_elemento)\n",
        "\n",
        "# Obtener y mostrar el segundo elemento del iterador\n",
        "segundo_elemento = next(mi_iterador)\n",
        "print(\"Segundo elemento:\", segundo_elemento)"
      ],
      "metadata": {
        "colab": {
          "base_uri": "https://localhost:8080/"
        },
        "id": "JnGey3moo0jb",
        "outputId": "806da8bc-9376-48de-e35a-41c67655c7ff"
      },
      "execution_count": null,
      "outputs": [
        {
          "output_type": "stream",
          "name": "stdout",
          "text": [
            "Primer elemento: 1\n",
            "Segundo elemento: 2\n"
          ]
        }
      ]
    },
    {
      "cell_type": "markdown",
      "source": [
        "En este ejemplo:\n",
        "\n",
        "1. Se crea una lista llamada mi_lista.\n",
        "2. Se obtiene un iterador a partir de la lista utilizando la función iter().\n",
        "3. Se utiliza la función next() para obtener el primer elemento del iterador y se imprime.\n",
        "4. Se utiliza la función next() nuevamente para obtener el segundo elemento del iterador y se imprime.\n",
        "\n",
        "Este es un ejemplo básico, pero la función iter() se utiliza comúnmente en situaciones donde se necesita trabajar con iteradores y se desea controlar manualmente el avance a través de los elementos de un iterable."
      ],
      "metadata": {
        "id": "OiscAb6ho9mq"
      }
    },
    {
      "cell_type": "markdown",
      "source": [
        "#Ejemplo con mapPartitionsWithIndex\n",
        "\n",
        "La función mapPartitionsWithIndex es una transformación en Spark que permite aplicar una función a cada partición de un RDD, mientras proporciona el índice de la partición como un parámetro a la función. Esto es útil cuando necesitas realizar operaciones que dependen del índice de la partición en el que se está trabajando.\n",
        "\n",
        "La sintaxis básica de mapPartitionsWithIndex es la siguiente:\n",
        "\n",
        "<code>RDD.mapPartitionsWithIndex(función)</code>\n",
        "\n",
        "Donde función es una función que toma dos argumentos: el índice de la partición y un iterador que produce los elementos de esa partición. La función devuelve un nuevo iterador que genera los elementos transformados.\n",
        "\n",
        "Un ejemplo para ilustrar cómo funciona mapPartitionsWithIndex:\n"
      ],
      "metadata": {
        "id": "exJFMA1YoXuW"
      }
    },
    {
      "cell_type": "code",
      "source": [
        "#from pyspark import SparkContext\n",
        "\n",
        "# Configuración del SparkContext\n",
        "#sc = SparkContext(\"local\", \"Ejemplo Spark\")\n",
        "\n",
        "# Crear un RDD con datos de ejemplo\n",
        "data = [1, 2, 3, 4, 5, 6, 7, 8, 9, 10]\n",
        "rdd = sc.parallelize(data, 3)  # Crear un RDD con 3 particiones\n",
        "\n",
        "\n",
        "# Definir una función para multiplicar cada elemento por el índice de la partición\n",
        "def multiplicar_por_indice(partition_index, iterador):\n",
        "    yield f\"Partición {partition_index}: {list(iterador)}\"\n",
        "\n",
        "# Aplicar mapPartitionsWithIndex\n",
        "resultado = rdd.mapPartitionsWithIndex(multiplicar_por_indice)\n",
        "\n",
        "# Recoger y mostrar los resultados\n",
        "resultados = resultado.collect()\n",
        "for resultado_particion in resultados:\n",
        "    print(resultado_particion)"
      ],
      "metadata": {
        "colab": {
          "base_uri": "https://localhost:8080/"
        },
        "id": "V-b1HZ3nuKX9",
        "outputId": "701c259f-1b64-4df0-9a65-55bc15a1c8fd"
      },
      "execution_count": null,
      "outputs": [
        {
          "output_type": "stream",
          "name": "stdout",
          "text": [
            "Partición 0: [1, 2, 3]\n",
            "Partición 1: [4, 5, 6]\n",
            "Partición 2: [7, 8, 9, 10]\n"
          ]
        }
      ]
    },
    {
      "cell_type": "code",
      "source": [
        "rdd.take(5)"
      ],
      "metadata": {
        "colab": {
          "base_uri": "https://localhost:8080/"
        },
        "id": "iQaGCf_Ww2Li",
        "outputId": "ddb4fbb4-4e13-4d16-8226-70ea4ab7b423"
      },
      "execution_count": null,
      "outputs": [
        {
          "output_type": "execute_result",
          "data": {
            "text/plain": [
              "[1, 2, 3, 4, 5]"
            ]
          },
          "metadata": {},
          "execution_count": 13
        }
      ]
    },
    {
      "cell_type": "markdown",
      "source": [
        "En este ejemplo:\n",
        "\n",
        "1. Se crea un RDD con datos de ejemplo y se especifica que tenga 3 particiones.\n",
        "2. Se define una función multiplicar_por_indice que toma el índice de la partición y un iterador que produce los elementos de esa partición. La función multiplica cada elemento por el índice de la partición.\n",
        "3. Se aplica mapPartitionsWithIndex al RDD utilizando la función definida.\n",
        "4. Se recogen y muestran los resultados, donde cada partición y sus elementos transformados se imprimen."
      ],
      "metadata": {
        "id": "6CDL8EyAxVLf"
      }
    },
    {
      "cell_type": "markdown",
      "source": [
        "#mapPartitionsWithIndex\n",
        "Esta función le pasa dos parámetros a nuestra función creada uno sería el índice y el otro toda la columna"
      ],
      "metadata": {
        "id": "Zp7Spi1Ll4va"
      }
    },
    {
      "cell_type": "code",
      "source": [
        "deportistaOlimpicoRDD = deportistaOlimpicoRDD.mapPartitionsWithIndex(eliminaEncabezado)"
      ],
      "metadata": {
        "id": "WAFR6p-6pT1D"
      },
      "execution_count": null,
      "outputs": []
    },
    {
      "cell_type": "markdown",
      "source": [
        "El resultado se nos muestra sin encabezado"
      ],
      "metadata": {
        "id": "fKHRrVAzxuYO"
      }
    },
    {
      "cell_type": "code",
      "source": [
        "deportistaOlimpicoRDD.take(5)"
      ],
      "metadata": {
        "colab": {
          "base_uri": "https://localhost:8080/"
        },
        "id": "EHYAuNEW1Jjn",
        "outputId": "673bdf74-5773-4855-9ae0-fa44edb8e287"
      },
      "execution_count": null,
      "outputs": [
        {
          "output_type": "execute_result",
          "data": {
            "text/plain": [
              "[['1', 'A Dijiang', '1', '24', '180', '80', '199'],\n",
              " ['2', 'A Lamusi', '1', '23', '170', '60', '199'],\n",
              " ['3', 'Gunnar Nielsen Aaby', '1', '24', '0', '0', '273'],\n",
              " ['4', 'Edgar Lindenau Aabye', '1', '34', '0', '0', '278'],\n",
              " ['5', 'Christine Jacoba Aaftink', '2', '21', '185', '82', '705']]"
            ]
          },
          "metadata": {},
          "execution_count": 15
        }
      ]
    },
    {
      "cell_type": "markdown",
      "source": [
        "Antes de transformar el RDD primero tenemos que transformar los valores del RDD.\n",
        "\n",
        "Por eso haremos un mapeo sobre deportistaOlimpicoRDD y tranformamos los valores"
      ],
      "metadata": {
        "id": "7XP8hlfIx-HJ"
      }
    },
    {
      "cell_type": "code",
      "source": [
        "deportistaOlimpicoRDD = deportistaOlimpicoRDD.map(lambda l: (\n",
        "    int(l[0]),\n",
        "    l[1],\n",
        "    int(l[2]),\n",
        "    int(l[3]),\n",
        "    int(l[4]),\n",
        "    float(l[5]),\n",
        "    int(l[6])\n",
        "    ))"
      ],
      "metadata": {
        "id": "hyQO4e0Y2i0w"
      },
      "execution_count": null,
      "outputs": []
    },
    {
      "cell_type": "code",
      "source": [
        "deportistaOlimpicoRDD.take(5)"
      ],
      "metadata": {
        "colab": {
          "base_uri": "https://localhost:8080/"
        },
        "id": "YfISQCQ1z9an",
        "outputId": "decdbd35-f1d3-4992-d2ba-6d3b59b09e6c"
      },
      "execution_count": null,
      "outputs": [
        {
          "output_type": "execute_result",
          "data": {
            "text/plain": [
              "[(1, 'A Dijiang', 1, 24, 180, 80.0, 199),\n",
              " (2, 'A Lamusi', 1, 23, 170, 60.0, 199),\n",
              " (3, 'Gunnar Nielsen Aaby', 1, 24, 0, 0.0, 273),\n",
              " (4, 'Edgar Lindenau Aabye', 1, 34, 0, 0.0, 278),\n",
              " (5, 'Christine Jacoba Aaftink', 2, 21, 185, 82.0, 705)]"
            ]
          },
          "metadata": {},
          "execution_count": 17
        }
      ]
    },
    {
      "cell_type": "markdown",
      "source": [
        "Generamos el esquema que va a contener nuestro DataFrame"
      ],
      "metadata": {
        "id": "wCoWLMF30ELH"
      }
    },
    {
      "cell_type": "code",
      "source": [
        "schema = StructType([\n",
        "    StructField(\"deportista_id\", IntegerType(), False),\n",
        "    StructField(\"nombre\", StringType(), False),\n",
        "    StructField(\"genero\", IntegerType(), False),\n",
        "    StructField(\"edad\", IntegerType(), False),\n",
        "    StructField(\"altura\", IntegerType(), False),\n",
        "    StructField(\"peso\", FloatType(), False),\n",
        "    StructField(\"equipo_id\", IntegerType(), False)\n",
        "])"
      ],
      "metadata": {
        "id": "RbvTxjsc41PZ"
      },
      "execution_count": null,
      "outputs": []
    },
    {
      "cell_type": "code",
      "source": [
        "sqlContext.createDataFrame(deportistaOlimpicoRDD, schema).show(5)"
      ],
      "metadata": {
        "colab": {
          "base_uri": "https://localhost:8080/"
        },
        "id": "snqKakS09Y7Q",
        "outputId": "bd24e1e4-5c9e-45fb-ad0d-8e371d94d0f0"
      },
      "execution_count": null,
      "outputs": [
        {
          "output_type": "stream",
          "name": "stdout",
          "text": [
            "+-------------+--------------------+------+----+------+----+---------+\n",
            "|deportista_id|              nombre|genero|edad|altura|peso|equipo_id|\n",
            "+-------------+--------------------+------+----+------+----+---------+\n",
            "|            1|           A Dijiang|     1|  24|   180|80.0|      199|\n",
            "|            2|            A Lamusi|     1|  23|   170|60.0|      199|\n",
            "|            3| Gunnar Nielsen Aaby|     1|  24|     0| 0.0|      273|\n",
            "|            4|Edgar Lindenau Aabye|     1|  34|     0| 0.0|      278|\n",
            "|            5|Christine Jacoba ...|     2|  21|   185|82.0|      705|\n",
            "+-------------+--------------------+------+----+------+----+---------+\n",
            "only showing top 5 rows\n",
            "\n"
          ]
        }
      ]
    },
    {
      "cell_type": "code",
      "source": [
        "deportistaDF = sqlContext.createDataFrame(deportistaOlimpicoRDD, schema)"
      ],
      "metadata": {
        "id": "j5l3KYliCQGC"
      },
      "execution_count": null,
      "outputs": []
    },
    {
      "cell_type": "markdown",
      "source": [
        "#Operaciones con los DataFrames\n",
        "\n",
        "Primero cargamos los otros archivos en dataFrames\n",
        "\n",
        "## paises.csv\n"
      ],
      "metadata": {
        "id": "DHf-OEb7d6MT"
      }
    },
    {
      "cell_type": "code",
      "source": [
        "paisesRDD = sc.textFile(\"paises.csv\").map(lambda l: l.split(\",\"))\n",
        "paisesRDD = paisesRDD.mapPartitionsWithIndex(eliminaEncabezado)\n",
        "paisesRDD.take(5)"
      ],
      "metadata": {
        "colab": {
          "base_uri": "https://localhost:8080/"
        },
        "id": "2KVahIpLF6bP",
        "outputId": "3e8b263d-616f-4a7c-e9fe-12f7b2847f82"
      },
      "execution_count": null,
      "outputs": [
        {
          "output_type": "execute_result",
          "data": {
            "text/plain": [
              "[['1', '30. Februar', 'AUT'],\n",
              " ['2', 'A North American Team', 'MEX'],\n",
              " ['3', 'Acipactli', 'MEX'],\n",
              " ['4', 'Acturus', 'ARG'],\n",
              " ['5', 'Afghanistan', 'AFG']]"
            ]
          },
          "metadata": {},
          "execution_count": 21
        }
      ]
    },
    {
      "cell_type": "code",
      "source": [
        "paisesRDD = paisesRDD.map(lambda l: (\n",
        "    int(l[0]),\n",
        "    l[1],\n",
        "    l[2]\n",
        "))\n",
        "\n",
        "schema = StructType([\n",
        "    StructField(\"id\", IntegerType(), False),\n",
        "    StructField(\"equipo\", StringType(), False),\n",
        "    StructField(\"sigla\", StringType(), False)\n",
        "])\n",
        "\n",
        "paisesDF = sqlContext.createDataFrame(paisesRDD, schema)"
      ],
      "metadata": {
        "id": "x2smo-HFJSY3"
      },
      "execution_count": null,
      "outputs": []
    },
    {
      "cell_type": "code",
      "source": [
        "paisesDF.show(5)"
      ],
      "metadata": {
        "colab": {
          "base_uri": "https://localhost:8080/"
        },
        "id": "-p6-4bkKLt5M",
        "outputId": "9424de93-7410-406b-9fe4-15e113c31a4e"
      },
      "execution_count": null,
      "outputs": [
        {
          "output_type": "stream",
          "name": "stdout",
          "text": [
            "+---+--------------------+-----+\n",
            "| id|              equipo|sigla|\n",
            "+---+--------------------+-----+\n",
            "|  1|         30. Februar|  AUT|\n",
            "|  2|A North American ...|  MEX|\n",
            "|  3|           Acipactli|  MEX|\n",
            "|  4|             Acturus|  ARG|\n",
            "|  5|         Afghanistan|  AFG|\n",
            "+---+--------------------+-----+\n",
            "only showing top 5 rows\n",
            "\n"
          ]
        }
      ]
    },
    {
      "cell_type": "markdown",
      "source": [
        "## resultados.csv"
      ],
      "metadata": {
        "id": "-XwQXZ63bsnQ"
      }
    },
    {
      "cell_type": "code",
      "source": [
        "\"\"\"resultadoRDD = sc.textFile(\"resultados.csv\").map(lambda line: line.split(\",\"))\n",
        "resultadoRDD = resultadoRDD.mapPartitionsWithIndex(eliminaEncabezado)\n",
        "\n",
        "resultadoRDD = resultadoRDD.map(lambda l: (\n",
        "    int(l[0]),\n",
        "    l[1],\n",
        "    int(l[2]),\n",
        "    int(l[3]),\n",
        "    int(l[4])\n",
        "))\n",
        "\n",
        "schema = StructType([\n",
        "    StructField(\"resultado_id\", IntegerType(), False),\n",
        "    StructField(\"medalla\", StringType(), False),\n",
        "    StructField(\"deportista_id\", IntegerType(), False),\n",
        "    StructField(\"juego_id\", IntegerType(), False),\n",
        "    StructField(\"evento_id\", IntegerType(), False)\n",
        "])\n",
        "\n",
        "resultadoDF = sqlContext.createDataFrame(resultadoRDD, schema)\"\"\""
      ],
      "metadata": {
        "id": "7gDsEh0EbyT6",
        "colab": {
          "base_uri": "https://localhost:8080/",
          "height": 87
        },
        "outputId": "cd73405d-637a-470b-b38e-6e7b420c5888"
      },
      "execution_count": null,
      "outputs": [
        {
          "output_type": "execute_result",
          "data": {
            "text/plain": [
              "'resultadoRDD = sc.textFile(\"resultados.csv\").map(lambda line: line.split(\",\"))\\nresultadoRDD = resultadoRDD.mapPartitionsWithIndex(eliminaEncabezado)\\n\\nresultadoRDD = resultadoRDD.map(lambda l: (\\n    int(l[0]),\\n    l[1],\\n    int(l[2]),\\n    int(l[3]),\\n    int(l[4])\\n))\\n\\nschema = StructType([\\n    StructField(\"resultado_id\", IntegerType(), False),\\n    StructField(\"medalla\", StringType(), False),\\n    StructField(\"deportista_id\", IntegerType(), False),\\n    StructField(\"juego_id\", IntegerType(), False),\\n    StructField(\"evento_id\", IntegerType(), False)\\n])\\n\\nresultadoDF = sqlContext.createDataFrame(resultadoRDD, schema)'"
            ],
            "application/vnd.google.colaboratory.intrinsic+json": {
              "type": "string"
            }
          },
          "metadata": {},
          "execution_count": 24
        }
      ]
    },
    {
      "cell_type": "code",
      "source": [
        "#resultadoDF = resultadoDF.filter((resultadoDF.evento_id != '#N/A'))"
      ],
      "metadata": {
        "id": "sHIrvrkJZCyt"
      },
      "execution_count": null,
      "outputs": []
    },
    {
      "cell_type": "code",
      "source": [
        "#resultadoDF.show(5)"
      ],
      "metadata": {
        "id": "sCzJJAcre5Xh"
      },
      "execution_count": null,
      "outputs": []
    },
    {
      "cell_type": "code",
      "source": [
        "#resultadoDF[resultadoDF['evento_id']== 1].show()"
      ],
      "metadata": {
        "id": "sEi4qifjcPAY"
      },
      "execution_count": null,
      "outputs": []
    },
    {
      "cell_type": "code",
      "source": [
        "#resultadoDF[resultadoDF['evento_id']== \"#N/A\"].show()"
      ],
      "metadata": {
        "id": "R47i2Gu2gQbU"
      },
      "execution_count": null,
      "outputs": []
    },
    {
      "cell_type": "code",
      "source": [
        "#resultadoDF[resultadoDF[\"resultado_id\"]==251].take(1)"
      ],
      "metadata": {
        "id": "9Trke1MyiCua"
      },
      "execution_count": null,
      "outputs": []
    },
    {
      "cell_type": "code",
      "source": [
        "resultadoSchema = StructType([\n",
        "    StructField(\"resultado_id\",IntegerType(),False),\n",
        "    StructField(\"medalla\",StringType(),False),\n",
        "    StructField(\"deportista_id\",IntegerType(),False),\n",
        "    StructField(\"juego_id\",IntegerType(),False),\n",
        "    StructField(\"evento_id\",IntegerType(),False)\n",
        "])\n",
        "resultadoDF = sqlContext.read.schema(resultadoSchema).option(\"header\",\"true\").csv(\"resultados.csv\")"
      ],
      "metadata": {
        "id": "zdIjRZh4u46Z"
      },
      "execution_count": null,
      "outputs": []
    },
    {
      "cell_type": "code",
      "source": [
        "resultadoDF.show(5)"
      ],
      "metadata": {
        "colab": {
          "base_uri": "https://localhost:8080/"
        },
        "id": "G5Of9IPVwsdE",
        "outputId": "816ae85e-241f-41fb-f7d3-96f5f201afbe"
      },
      "execution_count": null,
      "outputs": [
        {
          "output_type": "stream",
          "name": "stdout",
          "text": [
            "+------------+-------+-------------+--------+---------+\n",
            "|resultado_id|medalla|deportista_id|juego_id|evento_id|\n",
            "+------------+-------+-------------+--------+---------+\n",
            "|           1|     NA|            1|      39|        1|\n",
            "|           2|     NA|            2|      49|        2|\n",
            "|           3|     NA|            3|       7|        3|\n",
            "|           4|   Gold|            4|       2|        4|\n",
            "|           5|     NA|            5|      36|        5|\n",
            "+------------+-------+-------------+--------+---------+\n",
            "only showing top 5 rows\n",
            "\n"
          ]
        }
      ]
    },
    {
      "cell_type": "markdown",
      "source": [
        "## juegos.csv"
      ],
      "metadata": {
        "id": "9R3hIUX2f9th"
      }
    },
    {
      "cell_type": "code",
      "source": [
        "juegoRDD = sc.textFile(\"juegos.csv\").map(lambda line: line.split(\",\"))\n",
        "juegoRDD = juegoRDD.mapPartitionsWithIndex(eliminaEncabezado)\n",
        "\n",
        "juegoRDD = juegoRDD.map(lambda l: (\n",
        "    int(l[0]),\n",
        "    l[1],\n",
        "    l[2],\n",
        "    l[3],\n",
        "    l[4]\n",
        "))\n",
        "\n",
        "schema = StructType([\n",
        "    StructField(\"juego_id\", IntegerType(), False),\n",
        "    StructField(\"nombre_juego\", StringType(), False),\n",
        "    StructField(\"anio\", StringType(), False),\n",
        "    StructField(\"temporada\", StringType(), False),\n",
        "    StructField(\"ciudad\", StringType(), False)\n",
        "])\n",
        "\n",
        "juegoDF = sqlContext.createDataFrame(juegoRDD, schema)"
      ],
      "metadata": {
        "id": "n2MKded8gBpT"
      },
      "execution_count": null,
      "outputs": []
    },
    {
      "cell_type": "code",
      "source": [
        "juegoDF.show(5)"
      ],
      "metadata": {
        "colab": {
          "base_uri": "https://localhost:8080/"
        },
        "id": "w4IXrcRViyqo",
        "outputId": "4656a1ac-e0ce-4c71-acb5-878a14a63792"
      },
      "execution_count": null,
      "outputs": [
        {
          "output_type": "stream",
          "name": "stdout",
          "text": [
            "+--------+------------+----+---------+---------+\n",
            "|juego_id|nombre_juego|anio|temporada|   ciudad|\n",
            "+--------+------------+----+---------+---------+\n",
            "|       1| 1896 Verano|1896|   Verano|   Athina|\n",
            "|       2| 1900 Verano|1900|   Verano|    Paris|\n",
            "|       3| 1904 Verano|1904|   Verano|St. Louis|\n",
            "|       4| 1906 Verano|1906|   Verano|   Athina|\n",
            "|       5| 1908 Verano|1908|   Verano|   London|\n",
            "+--------+------------+----+---------+---------+\n",
            "only showing top 5 rows\n",
            "\n"
          ]
        }
      ]
    },
    {
      "cell_type": "markdown",
      "source": [
        "## deporte.csv\n"
      ],
      "metadata": {
        "id": "ImazRYdDPIpo"
      }
    },
    {
      "cell_type": "code",
      "source": [
        "deporteRDD = sc.textFile(\"deporte.csv\").map(lambda line: line.split(\",\"))\n",
        "deporteRDD = deporteRDD.mapPartitionsWithIndex(eliminaEncabezado)\n",
        "deporteRDD = deporteRDD.map(lambda l: (\n",
        "    int(l[0]),\n",
        "    l[1]\n",
        "))\n",
        "\n",
        "schema = StructType((\n",
        "    StructField(\"deporte_id\", IntegerType(), False),\n",
        "    StructField(\"deporte\", StringType(), False)\n",
        "))\n",
        "\n",
        "deporteDF = sqlContext.createDataFrame(deporteRDD, schema)"
      ],
      "metadata": {
        "id": "yJCP3y6lPYzv"
      },
      "execution_count": null,
      "outputs": []
    },
    {
      "cell_type": "code",
      "source": [
        "deporteDF.show(5)"
      ],
      "metadata": {
        "colab": {
          "base_uri": "https://localhost:8080/"
        },
        "id": "mrZvqxjiQ89B",
        "outputId": "c629c270-c872-4d97-f722-951fabb33f83"
      },
      "execution_count": null,
      "outputs": [
        {
          "output_type": "stream",
          "name": "stdout",
          "text": [
            "+----------+-------------+\n",
            "|deporte_id|      deporte|\n",
            "+----------+-------------+\n",
            "|         1|   Basketball|\n",
            "|         2|         Judo|\n",
            "|         3|     Football|\n",
            "|         4|   Tug-Of-War|\n",
            "|         5|Speed Skating|\n",
            "+----------+-------------+\n",
            "only showing top 5 rows\n",
            "\n"
          ]
        }
      ]
    },
    {
      "cell_type": "markdown",
      "source": [
        "# Impresión del schema\n",
        "Es importante ya que a veces no tenemos en un manual estos esquemas"
      ],
      "metadata": {
        "id": "vWy_Yn9hRG-t"
      }
    },
    {
      "cell_type": "code",
      "source": [
        "deporteDF.printSchema()"
      ],
      "metadata": {
        "colab": {
          "base_uri": "https://localhost:8080/"
        },
        "id": "KMuUXthRRJx7",
        "outputId": "69d388d8-728b-4638-832b-76d41a813a04"
      },
      "execution_count": null,
      "outputs": [
        {
          "output_type": "stream",
          "name": "stdout",
          "text": [
            "root\n",
            " |-- deporte_id: integer (nullable = false)\n",
            " |-- deporte: string (nullable = false)\n",
            "\n"
          ]
        }
      ]
    },
    {
      "cell_type": "markdown",
      "source": [
        "# Cambiar el nombre de una columna e eliminación de columnas\n",
        "\n"
      ],
      "metadata": {
        "id": "TS6fQgKyRcsi"
      }
    },
    {
      "cell_type": "code",
      "source": [
        "deportistaDF.printSchema()"
      ],
      "metadata": {
        "colab": {
          "base_uri": "https://localhost:8080/"
        },
        "id": "sa6e6o3cRmAw",
        "outputId": "f8c041b0-aad6-487c-e05a-0170764c1f32"
      },
      "execution_count": null,
      "outputs": [
        {
          "output_type": "stream",
          "name": "stdout",
          "text": [
            "root\n",
            " |-- deportista_id: integer (nullable = false)\n",
            " |-- nombre: string (nullable = false)\n",
            " |-- genero: integer (nullable = false)\n",
            " |-- edad: integer (nullable = false)\n",
            " |-- altura: integer (nullable = false)\n",
            " |-- peso: float (nullable = false)\n",
            " |-- equipo_id: integer (nullable = false)\n",
            "\n"
          ]
        }
      ]
    },
    {
      "cell_type": "markdown",
      "source": [
        "Debido a que los dataFrame son inmutables por eso reasignamos el valor"
      ],
      "metadata": {
        "id": "aZcf12qHSUQ5"
      }
    },
    {
      "cell_type": "code",
      "source": [
        "deportistaDF = deportistaDF.withColumnRenamed(\"genero\", \"sexo\").drop(\"altura\")"
      ],
      "metadata": {
        "id": "nIrFlfKKSC_H"
      },
      "execution_count": null,
      "outputs": []
    },
    {
      "cell_type": "code",
      "source": [
        "deportistaDF.printSchema()"
      ],
      "metadata": {
        "colab": {
          "base_uri": "https://localhost:8080/"
        },
        "id": "kaXAulcOSgwa",
        "outputId": "d52fa897-6f60-424a-e1cc-e969150d49cc"
      },
      "execution_count": null,
      "outputs": [
        {
          "output_type": "stream",
          "name": "stdout",
          "text": [
            "root\n",
            " |-- deportista_id: integer (nullable = false)\n",
            " |-- nombre: string (nullable = false)\n",
            " |-- sexo: integer (nullable = false)\n",
            " |-- edad: integer (nullable = false)\n",
            " |-- peso: float (nullable = false)\n",
            " |-- equipo_id: integer (nullable = false)\n",
            "\n"
          ]
        }
      ]
    },
    {
      "cell_type": "markdown",
      "source": [
        "#select\n",
        "\n",
        "Podremos pasar el parámetro de las columnas que nosotros deseemos\n",
        "\n",
        "## función col\n",
        "Tiene una diferencia en la forma de procesamiento con los dataFrames ya que cuando nosotros seleccionamos un dataFrame es una operación iterativa, es decir volvemos a cargar todo el dataFrame una y otra vez, por ejemplo en el renombrado y dropeo anterior recorrimnos todo el dataFrame para poderlo eliminar.\n",
        "\n",
        "Con col generamos una lista en vivo que tendrá todos los valores de las columnas y poder hacer operaciones sobre él que sean pesadas como el renombrado\n",
        "\n"
      ],
      "metadata": {
        "id": "aRDTAgkCSy_c"
      }
    },
    {
      "cell_type": "code",
      "source": [
        "deportistaDF = deportistaDF.select(\"deportista_id\", \"nombre\", col(\"edad\").alias(\"edadAlJugar\"), \"equipo_id\")"
      ],
      "metadata": {
        "id": "45Um0D4BS1VJ"
      },
      "execution_count": null,
      "outputs": []
    },
    {
      "cell_type": "code",
      "source": [
        "deportistaDF.show(5)"
      ],
      "metadata": {
        "colab": {
          "base_uri": "https://localhost:8080/"
        },
        "id": "Sg7VGZV1WEYT",
        "outputId": "8a083752-0690-4f04-ce8c-ffea45fb1343"
      },
      "execution_count": null,
      "outputs": [
        {
          "output_type": "stream",
          "name": "stdout",
          "text": [
            "+-------------+--------------------+-----------+---------+\n",
            "|deportista_id|              nombre|edadAlJugar|equipo_id|\n",
            "+-------------+--------------------+-----------+---------+\n",
            "|            1|           A Dijiang|         24|      199|\n",
            "|            2|            A Lamusi|         23|      199|\n",
            "|            3| Gunnar Nielsen Aaby|         24|      273|\n",
            "|            4|Edgar Lindenau Aabye|         34|      278|\n",
            "|            5|Christine Jacoba ...|         21|      705|\n",
            "+-------------+--------------------+-----------+---------+\n",
            "only showing top 5 rows\n",
            "\n"
          ]
        }
      ]
    },
    {
      "cell_type": "markdown",
      "source": [
        "Al momento de cargar algunas dataFrames nos dimos cuenta que habían omisión de datos y esto se solucionó agregando ceros para hacer la carga de datos más fácil\n",
        "\n",
        "Pero si hacemos por ejemplo una selección como la siguiente se nos muestra cierta basura"
      ],
      "metadata": {
        "id": "eYEvWV1EWXu2"
      }
    },
    {
      "cell_type": "code",
      "source": [
        "deportistaDF.sort(\"edadAlJugar\").show()"
      ],
      "metadata": {
        "colab": {
          "base_uri": "https://localhost:8080/"
        },
        "id": "AUnMoj-GX-lN",
        "outputId": "a0cd0673-f32f-4972-85b2-06449f8e8226"
      },
      "execution_count": null,
      "outputs": [
        {
          "output_type": "stream",
          "name": "stdout",
          "text": [
            "+-------------+--------------------+-----------+---------+\n",
            "|deportista_id|              nombre|edadAlJugar|equipo_id|\n",
            "+-------------+--------------------+-----------+---------+\n",
            "|          224|     Mohamed AbdelEl|          0|      308|\n",
            "|          487|      Inni Aboubacar|          0|      721|\n",
            "|          226|Sanad Bushara Abd...|          0|     1003|\n",
            "|           58|    Georgi Abadzhiev|          0|      154|\n",
            "|          230|    Moustafa Abdelal|          0|      308|\n",
            "|          102|   Sayed Fahmy Abaza|          0|      308|\n",
            "|          260|  Ahmed Abdo Mustafa|          0|     1003|\n",
            "|          139|George Ioannis Abbot|          0|     1043|\n",
            "|          281|      S. Abdul Hamid|          0|      487|\n",
            "|          163|     Ismail Abdallah|          0|     1095|\n",
            "|          285|Talal Hassoun Abd...|          0|      497|\n",
            "|          173| Mohamed Abdel Fatah|          0|     1003|\n",
            "|          179|Ibrahim Saad Abde...|          0|     1003|\n",
            "|          378|     Angelik Abebame|          0|        0|\n",
            "|          294|Mohamed Ghulom Ab...|          0|       81|\n",
            "|          186| Mohamed Abdel Hafiz|          0|     1095|\n",
            "|          300|     A. Abdul Razzak|          0|      497|\n",
            "|          190| Ibrahim Abdel Hamid|          0|      308|\n",
            "|          301|Mohamed Abdul Razzak|          0|      497|\n",
            "|          209|Ibrahim Abdel Rahman|          0|     1095|\n",
            "+-------------+--------------------+-----------+---------+\n",
            "only showing top 20 rows\n",
            "\n"
          ]
        }
      ]
    },
    {
      "cell_type": "markdown",
      "source": [
        "# Filtro DataFrame\n",
        "Para esto haremos un filtro"
      ],
      "metadata": {
        "id": "lgU4RGPOYP9J"
      }
    },
    {
      "cell_type": "code",
      "source": [
        "deportistaDF = deportistaDF.filter((deportistaDF.edadAlJugar != 0))"
      ],
      "metadata": {
        "id": "ruqzYqgJYSkO"
      },
      "execution_count": null,
      "outputs": []
    },
    {
      "cell_type": "code",
      "source": [
        "deportistaDF.sort(\"edadAlJugar\").show()"
      ],
      "metadata": {
        "colab": {
          "base_uri": "https://localhost:8080/"
        },
        "id": "x9Tz7l-wZ67N",
        "outputId": "3775882f-371c-4c8d-bbec-57c4142e310c"
      },
      "execution_count": null,
      "outputs": [
        {
          "output_type": "stream",
          "name": "stdout",
          "text": [
            "+-------------+--------------------+-----------+---------+\n",
            "|deportista_id|              nombre|edadAlJugar|equipo_id|\n",
            "+-------------+--------------------+-----------+---------+\n",
            "|        71691|  Dimitrios Loundras|         10|      333|\n",
            "|        70616|          Liu Luyang|         11|      199|\n",
            "|       118925|Megan Olwen Deven...|         11|      413|\n",
            "|        52070|        Etsuko Inada|         11|      514|\n",
            "|        22411|Magdalena Cecilia...|         11|      413|\n",
            "|        40129|    Luigina Giavotti|         11|      507|\n",
            "|        47618|Sonja Henie Toppi...|         11|      742|\n",
            "|        76675|   Marcelle Matthews|         11|      967|\n",
            "|        37333|Carlos Bienvenido...|         11|      982|\n",
            "|        51268|      Beatrice Hutiu|         11|      861|\n",
            "|       126307|        Liana Vicens|         11|      825|\n",
            "|        48939|             Ho Gang|         12|      738|\n",
            "|        49142|        Jan Hoffmann|         12|      302|\n",
            "|        42835|   Werner Grieshofer|         12|       71|\n",
            "|        54620|Belita Gladys Lyn...|         12|      413|\n",
            "|        31203|Patricia Anne Pat...|         12|      967|\n",
            "|        43528|Antoinette Joyce ...|         12|      172|\n",
            "|        46578|        Diana Hatler|         12|      825|\n",
            "|        59727|Marika Kilius Zah...|         12|      399|\n",
            "|        40296|    Alain C. Giletti|         12|      362|\n",
            "+-------------+--------------------+-----------+---------+\n",
            "only showing top 20 rows\n",
            "\n"
          ]
        }
      ]
    },
    {
      "cell_type": "markdown",
      "source": [
        "# Agrupaciones y operaciones join sobre DF"
      ],
      "metadata": {
        "id": "n81lEOsGalFQ"
      }
    },
    {
      "cell_type": "code",
      "source": [
        "deportistaDF.printSchema()"
      ],
      "metadata": {
        "colab": {
          "base_uri": "https://localhost:8080/"
        },
        "id": "J74YoC2Qaqfx",
        "outputId": "a7bf37a6-9f21-41b3-9b15-209c457535e1"
      },
      "execution_count": null,
      "outputs": [
        {
          "output_type": "stream",
          "name": "stdout",
          "text": [
            "root\n",
            " |-- deportista_id: integer (nullable = false)\n",
            " |-- nombre: string (nullable = false)\n",
            " |-- edadAlJugar: integer (nullable = false)\n",
            " |-- equipo_id: integer (nullable = false)\n",
            "\n"
          ]
        }
      ]
    },
    {
      "cell_type": "code",
      "source": [
        "schema = StructType([\n",
        "    StructField(\"deportista_id\", IntegerType(), False),\n",
        "    StructField(\"nombre\", StringType(), False),\n",
        "    StructField(\"genero\", IntegerType(), False),\n",
        "    StructField(\"edad\", IntegerType(), False),\n",
        "    StructField(\"altura\", IntegerType(), False),\n",
        "    StructField(\"peso\", FloatType(), False),\n",
        "    StructField(\"equipo_id\", IntegerType(), False)\n",
        "])\n",
        "deportistaDF = sqlContext.createDataFrame(deportistaOlimpicoRDD, schema)"
      ],
      "metadata": {
        "id": "yq5VufM7axlT"
      },
      "execution_count": null,
      "outputs": []
    },
    {
      "cell_type": "code",
      "source": [
        "deportistaDF.printSchema()"
      ],
      "metadata": {
        "colab": {
          "base_uri": "https://localhost:8080/"
        },
        "id": "kJZRF-M4bRwv",
        "outputId": "9df506b2-97de-4c96-c2b3-7a7855e59600"
      },
      "execution_count": null,
      "outputs": [
        {
          "output_type": "stream",
          "name": "stdout",
          "text": [
            "root\n",
            " |-- deportista_id: integer (nullable = false)\n",
            " |-- nombre: string (nullable = false)\n",
            " |-- genero: integer (nullable = false)\n",
            " |-- edad: integer (nullable = false)\n",
            " |-- altura: integer (nullable = false)\n",
            " |-- peso: float (nullable = false)\n",
            " |-- equipo_id: integer (nullable = false)\n",
            "\n"
          ]
        }
      ]
    },
    {
      "cell_type": "code",
      "source": [
        "resultadoDF.printSchema()"
      ],
      "metadata": {
        "colab": {
          "base_uri": "https://localhost:8080/"
        },
        "id": "IemjqqunfMCv",
        "outputId": "bded841b-dc5c-4cdd-b895-eaa638fd8629"
      },
      "execution_count": null,
      "outputs": [
        {
          "output_type": "stream",
          "name": "stdout",
          "text": [
            "root\n",
            " |-- resultado_id: integer (nullable = true)\n",
            " |-- medalla: string (nullable = true)\n",
            " |-- deportista_id: integer (nullable = true)\n",
            " |-- juego_id: integer (nullable = true)\n",
            " |-- evento_id: integer (nullable = true)\n",
            "\n"
          ]
        }
      ]
    },
    {
      "cell_type": "code",
      "source": [
        "juegoDF.printSchema()"
      ],
      "metadata": {
        "colab": {
          "base_uri": "https://localhost:8080/"
        },
        "id": "tp1C14dgf1nA",
        "outputId": "8d25fced-c911-4e48-8a73-318712278fcf"
      },
      "execution_count": null,
      "outputs": [
        {
          "output_type": "stream",
          "name": "stdout",
          "text": [
            "root\n",
            " |-- juego_id: integer (nullable = false)\n",
            " |-- nombre_juego: string (nullable = false)\n",
            " |-- anio: string (nullable = false)\n",
            " |-- temporada: string (nullable = false)\n",
            " |-- ciudad: string (nullable = false)\n",
            "\n"
          ]
        }
      ]
    },
    {
      "cell_type": "code",
      "source": [
        "deporteDF.printSchema()"
      ],
      "metadata": {
        "colab": {
          "base_uri": "https://localhost:8080/"
        },
        "id": "-nuZ5DAGjCOl",
        "outputId": "dc0aa703-b65b-46c8-fd14-39deb270e894"
      },
      "execution_count": null,
      "outputs": [
        {
          "output_type": "stream",
          "name": "stdout",
          "text": [
            "root\n",
            " |-- deporte_id: integer (nullable = false)\n",
            " |-- deporte: string (nullable = false)\n",
            "\n"
          ]
        }
      ]
    },
    {
      "cell_type": "markdown",
      "source": [
        "## evento.csv\n",
        "Se carga pero con el nombre deportesOlimpicosDF"
      ],
      "metadata": {
        "id": "cNEVR0ABzi2A"
      }
    },
    {
      "cell_type": "code",
      "source": [
        "deportesOlimpicosRDD = sc.textFile(\"evento.csv\").map(lambda line: line.split(\",\"))\n",
        "deportesOlimpicosRDD = deportesOlimpicosRDD.mapPartitionsWithIndex(eliminaEncabezado)\n",
        "deportesOlimpicosRDD = deportesOlimpicosRDD.map(lambda l: (\n",
        "    int(l[0]),\n",
        "    l[1],\n",
        "    l[2]\n",
        "))\n",
        "\n",
        "schema = StructType((\n",
        "    StructField(\"evento_id\", IntegerType(), False),\n",
        "    StructField(\"nombre\", StringType(), False),\n",
        "    StructField(\"deporte_id\", StringType(), False)\n",
        "))\n",
        "\n",
        "deportesOlimpicosDF = sqlContext.createDataFrame(deportesOlimpicosRDD, schema)"
      ],
      "metadata": {
        "id": "P_BvMZ18zh0G"
      },
      "execution_count": null,
      "outputs": []
    },
    {
      "cell_type": "code",
      "source": [
        "deportesOlimpicosDF.show(5)"
      ],
      "metadata": {
        "colab": {
          "base_uri": "https://localhost:8080/"
        },
        "id": "erSfY99P0TYN",
        "outputId": "c67de92a-021b-42d0-cb25-1c85ac4a9c6e"
      },
      "execution_count": null,
      "outputs": [
        {
          "output_type": "stream",
          "name": "stdout",
          "text": [
            "+---------+--------------------+----------+\n",
            "|evento_id|              nombre|deporte_id|\n",
            "+---------+--------------------+----------+\n",
            "|        1|Basketball Men's ...|         1|\n",
            "|        2|Judo Men's Extra-...|         2|\n",
            "|        3|Football Men's Fo...|         3|\n",
            "|        4|Tug-Of-War Men's ...|         4|\n",
            "|        5|Speed Skating Wom...|         5|\n",
            "+---------+--------------------+----------+\n",
            "only showing top 5 rows\n",
            "\n"
          ]
        }
      ]
    },
    {
      "cell_type": "markdown",
      "source": [
        "#join\n",
        "Realizaremos un join, primero indicamos contra que tabla lo vamos a cruzar  "
      ],
      "metadata": {
        "id": "eQDYJx3mjSRa"
      }
    },
    {
      "cell_type": "code",
      "source": [
        "deportistaDF.join(resultadoDF, deportistaDF.deportista_id == resultadoDF.deportista_id, \"left\")\\\n",
        "  .join(juegoDF, juegoDF.juego_id == resultadoDF.juego_id, \"left\")\\\n",
        "  .join(deportesOlimpicosDF,deportesOlimpicosDF.evento_id == resultadoDF.evento_id, \"left\")\\\n",
        "  .select(deportistaDF.nombre, col(\"edad\").alias(\"edadAlJugar\"),\n",
        "          \"medalla\", col(\"anio\").alias(\"Año de juego\"),\n",
        "          deportesOlimpicosDF.nombre.alias(\"Nombre de disciplina\")).show()"
      ],
      "metadata": {
        "colab": {
          "base_uri": "https://localhost:8080/"
        },
        "id": "YI3b78t8jU3t",
        "outputId": "9d0cce7a-f983-4b77-a4e1-da983b2ef8d9"
      },
      "execution_count": null,
      "outputs": [
        {
          "output_type": "stream",
          "name": "stdout",
          "text": [
            "+--------------------+-----------+-------+------------+--------------------+\n",
            "|              nombre|edadAlJugar|medalla|Año de juego|Nombre de disciplina|\n",
            "+--------------------+-----------+-------+------------+--------------------+\n",
            "|Abdul Aziz Hassan...|         23|     NA|        1976|Athletics Men's 2...|\n",
            "|     Guy A. Abrahams|         23|     NA|        1976|Athletics Men's 2...|\n",
            "|         Ramli Ahmad|         19|     NA|        1976|Athletics Men's 2...|\n",
            "|           Hamed Ali|         20|     NA|        1976|Athletics Men's 2...|\n",
            "|        Joseph Arame|         27|     NA|        1976|Athletics Men's 2...|\n",
            "|Ainsley Edward Ar...|         19|     NA|        1976|Athletics Men's 2...|\n",
            "|     Ainsley Bennett|         21|     NA|        1976|Athletics Men's 2...|\n",
            "|       Ayoub Bodaghi|         28|     NA|        1976|Athletics Men's 2...|\n",
            "|  Roland Bombardella|         19|     NA|        1976|Athletics Men's 2...|\n",
            "|      Colin Bradford|         21|     NA|        1976|Athletics Men's 2...|\n",
            "|Walter Edward Cal...|         25|     NA|        1976|Athletics Men's 2...|\n",
            "|        Rawle Clarke|         23|     NA|        1976|Athletics Men's 2...|\n",
            "|Hasely Joachim Cr...|         22|     NA|        1976|Athletics Men's 2...|\n",
            "|        Ruy da Silva|         24|     NA|        1976|Athletics Men's 2...|\n",
            "|   Calvin Leroy Dill|         20|     NA|        1976|Athletics Men's 2...|\n",
            "| Christian Dorosario|         18|     NA|        1976|Athletics Men's 2...|\n",
            "|     Philippe tienne|         26|     NA|        1976|Athletics Men's 2...|\n",
            "| Dwayne Eugene Evans|         17| Bronze|        1976|Athletics Men's 2...|\n",
            "|       Pietro Farina|         21|     NA|        1976|Athletics Men's 2...|\n",
            "| Pedro Ferrer Andino|         18|     NA|        1976|Athletics Men's 2...|\n",
            "+--------------------+-----------+-------+------------+--------------------+\n",
            "only showing top 20 rows\n",
            "\n"
          ]
        }
      ]
    }
  ]
}