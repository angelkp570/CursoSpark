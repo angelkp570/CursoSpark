{
  "nbformat": 4,
  "nbformat_minor": 0,
  "metadata": {
    "colab": {
      "provenance": [],
      "authorship_tag": "ABX9TyMIHGO0lTobOorzaehm6gJm",
      "include_colab_link": true
    },
    "kernelspec": {
      "name": "python3",
      "display_name": "Python 3"
    },
    "language_info": {
      "name": "python"
    }
  },
  "cells": [
    {
      "cell_type": "markdown",
      "metadata": {
        "id": "view-in-github",
        "colab_type": "text"
      },
      "source": [
        "<a href=\"https://colab.research.google.com/github/angelkp570/CursoSpark/blob/master/Clase3_InferenciaTipoDatos.ipynb\" target=\"_parent\"><img src=\"https://colab.research.google.com/assets/colab-badge.svg\" alt=\"Open In Colab\"/></a>"
      ]
    },
    {
      "cell_type": "markdown",
      "source": [
        "# Creación de un DataFrame a través de un RDD\n"
      ],
      "metadata": {
        "id": "sUpZojnchHj7"
      }
    },
    {
      "cell_type": "code",
      "execution_count": 1,
      "metadata": {
        "id": "mVpRmv168qt6"
      },
      "outputs": [],
      "source": [
        "# innstall java\n",
        "!apt-get install openjdk-8-jdk-headless -qq > /dev/null\n",
        "\n",
        "# install spark (change the version number if needed)\n",
        "!wget -q https://archive.apache.org/dist/spark/spark-3.0.0/spark-3.0.0-bin-hadoop3.2.tgz\n",
        "\n",
        "# unzip the spark file to the current folder\n",
        "!tar xf spark-3.0.0-bin-hadoop3.2.tgz\n",
        "\n",
        "# set your spark folder to your system path environment.\n",
        "import os\n",
        "os.environ[\"JAVA_HOME\"] = \"/usr/lib/jvm/java-8-openjdk-amd64\"\n",
        "os.environ[\"SPARK_HOME\"] = \"/content/spark-3.0.0-bin-hadoop3.2\"\n",
        "\n",
        "\n",
        "# install findspark using pip\n",
        "!pip install -q findspark"
      ]
    },
    {
      "cell_type": "code",
      "source": [
        "import findspark\n",
        "findspark.init()"
      ],
      "metadata": {
        "id": "fghEpkL4C9Bm"
      },
      "execution_count": 2,
      "outputs": []
    },
    {
      "cell_type": "code",
      "source": [
        "from pyspark import SparkContext, SparkConf\n",
        "from pyspark.sql import SparkSession\n",
        "\n",
        "from pyspark.sql.types import StructType, StructField, IntegerType, StringType, FloatType, Row\n",
        "\n",
        "from pyspark.sql import SQLContext"
      ],
      "metadata": {
        "id": "qsICnBVfC_mN"
      },
      "execution_count": 14,
      "outputs": []
    },
    {
      "cell_type": "code",
      "source": [
        "# ConfigureSparkUI\n",
        "conf = SparkConf().set('spark.ui.port', '4050')"
      ],
      "metadata": {
        "id": "uGYP0bhHDE4Y"
      },
      "execution_count": 4,
      "outputs": []
    },
    {
      "cell_type": "code",
      "source": [
        "sc = SparkContext(master=\"local\", appName=\"DataFrames\",conf=conf)"
      ],
      "metadata": {
        "id": "KAgewP0gDHMh"
      },
      "execution_count": 5,
      "outputs": []
    },
    {
      "cell_type": "code",
      "source": [
        "sqlContext = SQLContext(sc)"
      ],
      "metadata": {
        "id": "EuUyFiQUAs4M"
      },
      "execution_count": 19,
      "outputs": []
    },
    {
      "cell_type": "code",
      "source": [
        "deportistaOlimpicoRDD = sc.textFile(\"deportista.csv\").map(lambda l : l.split(\",\"))\n",
        "deportistaOlimpicoRDD2 = sc.textFile(\"deportista2.csv\").map(lambda l : l.split(\",\"))\n",
        "\n",
        "deportistaOlimpicoRDD = deportistaOlimpicoRDD.union(deportistaOlimpicoRDD2)"
      ],
      "metadata": {
        "id": "EkSlz7ifH53t"
      },
      "execution_count": 6,
      "outputs": []
    },
    {
      "cell_type": "code",
      "source": [
        "deportistaOlimpicoRDD.take(5)"
      ],
      "metadata": {
        "id": "vtR4muWpKJVg",
        "outputId": "f0e103fd-7f10-4a55-998f-73695d564627",
        "colab": {
          "base_uri": "https://localhost:8080/"
        }
      },
      "execution_count": 7,
      "outputs": [
        {
          "output_type": "execute_result",
          "data": {
            "text/plain": [
              "[['deportista_id', 'nombre', 'genero', 'edad', 'altura', 'peso', 'equipo_id'],\n",
              " ['1', 'A Dijiang', '1', '24', '180', '80', '199'],\n",
              " ['2', 'A Lamusi', '1', '23', '170', '60', '199'],\n",
              " ['3', 'Gunnar Nielsen Aaby', '1', '24', '0', '0', '273'],\n",
              " ['4', 'Edgar Lindenau Aabye', '1', '34', '0', '0', '278']]"
            ]
          },
          "metadata": {},
          "execution_count": 7
        }
      ]
    },
    {
      "cell_type": "markdown",
      "source": [
        "Crearemos un DataFrame a través del RDD deportistaOlimpicoRDD pero como poodemos observar este RDD contiene un encabezado. Por esta razón crearemos una función para poder retirar dicho encabezado.\n",
        "\n",
        "Esta función va a recibir dos parámetros, indice e iterador. Esta función va a retornar una lista limpia que ya posee los valores que nosotros queremos.\n",
        "\n",
        "iter() nos devuelve valor a valor lo que nosotros procesamos, aseguramos que devuelva una lista y que sea desde el segundo valor del RDD con esto eliminamos el encabezado  "
      ],
      "metadata": {
        "id": "3E6d8BdThrSd"
      }
    },
    {
      "cell_type": "code",
      "source": [
        "def eliminaEncabezado(indice, iterador):\n",
        "  return iter(list(iterador)[1:])"
      ],
      "metadata": {
        "id": "RTq5sn14524-"
      },
      "execution_count": 10,
      "outputs": []
    },
    {
      "cell_type": "markdown",
      "source": [
        "#Ejemplo con función iter()\n",
        "\n",
        "La función iter() en Python se utiliza para obtener un iterador a partir de un objeto iterable. Un iterador es un objeto que permite recorrer los elementos de un iterable, como una lista, tupla o cadena de caracteres, uno a la vez. Puedes usar la función iter() junto con la función next() para obtener y avanzar a través de los elementos del iterable.\n",
        "\n",
        "Aquí hay un ejemplo sencillo que ilustra el uso de iter():"
      ],
      "metadata": {
        "id": "bsBGSAoZoipM"
      }
    },
    {
      "cell_type": "code",
      "source": [
        "# Crear una lista\n",
        "mi_lista = [1, 2, 3, 4, 5]\n",
        "\n",
        "# Obtener un iterador a partir de la lista\n",
        "mi_iterador = iter(mi_lista)\n",
        "\n",
        "# Obtener y mostrar el primer elemento del iterador\n",
        "primer_elemento = next(mi_iterador)\n",
        "print(\"Primer elemento:\", primer_elemento)\n",
        "\n",
        "# Obtener y mostrar el segundo elemento del iterador\n",
        "segundo_elemento = next(mi_iterador)\n",
        "print(\"Segundo elemento:\", segundo_elemento)"
      ],
      "metadata": {
        "colab": {
          "base_uri": "https://localhost:8080/"
        },
        "id": "JnGey3moo0jb",
        "outputId": "84af1d4b-ef4b-4bbf-a836-114ebea24375"
      },
      "execution_count": 22,
      "outputs": [
        {
          "output_type": "stream",
          "name": "stdout",
          "text": [
            "Primer elemento: 1\n",
            "Segundo elemento: 2\n"
          ]
        }
      ]
    },
    {
      "cell_type": "markdown",
      "source": [
        "En este ejemplo:\n",
        "\n",
        "1. Se crea una lista llamada mi_lista.\n",
        "2. Se obtiene un iterador a partir de la lista utilizando la función iter().\n",
        "3. Se utiliza la función next() para obtener el primer elemento del iterador y se imprime.\n",
        "4. Se utiliza la función next() nuevamente para obtener el segundo elemento del iterador y se imprime.\n",
        "\n",
        "Este es un ejemplo básico, pero la función iter() se utiliza comúnmente en situaciones donde se necesita trabajar con iteradores y se desea controlar manualmente el avance a través de los elementos de un iterable."
      ],
      "metadata": {
        "id": "OiscAb6ho9mq"
      }
    },
    {
      "cell_type": "markdown",
      "source": [
        "#Ejemplo con mapPartitionsWithIndex\n",
        "\n",
        "La función mapPartitionsWithIndex es una transformación en Spark que permite aplicar una función a cada partición de un RDD, mientras proporciona el índice de la partición como un parámetro a la función. Esto es útil cuando necesitas realizar operaciones que dependen del índice de la partición en el que se está trabajando.\n",
        "\n",
        "La sintaxis básica de mapPartitionsWithIndex es la siguiente:\n",
        "\n",
        "<code>RDD.mapPartitionsWithIndex(función)</code>\n",
        "\n",
        "Donde función es una función que toma dos argumentos: el índice de la partición y un iterador que produce los elementos de esa partición. La función devuelve un nuevo iterador que genera los elementos transformados.\n",
        "\n",
        "Un ejemplo para ilustrar cómo funciona mapPartitionsWithIndex:\n"
      ],
      "metadata": {
        "id": "exJFMA1YoXuW"
      }
    },
    {
      "cell_type": "code",
      "source": [
        "#from pyspark import SparkContext\n",
        "\n",
        "# Configuración del SparkContext\n",
        "#sc = SparkContext(\"local\", \"Ejemplo Spark\")\n",
        "\n",
        "# Crear un RDD con datos de ejemplo\n",
        "data = [1, 2, 3, 4, 5, 6, 7, 8, 9, 10]\n",
        "rdd = sc.parallelize(data, 3)  # Crear un RDD con 3 particiones\n",
        "\n",
        "\n",
        "# Definir una función para multiplicar cada elemento por el índice de la partición\n",
        "def multiplicar_por_indice(partition_index, iterador):\n",
        "    yield f\"Partición {partition_index}: {list(iterador)}\"\n",
        "\n",
        "# Aplicar mapPartitionsWithIndex\n",
        "resultado = rdd.mapPartitionsWithIndex(multiplicar_por_indice)\n",
        "\n",
        "# Recoger y mostrar los resultados\n",
        "resultados = resultado.collect()\n",
        "for resultado_particion in resultados:\n",
        "    print(resultado_particion)"
      ],
      "metadata": {
        "colab": {
          "base_uri": "https://localhost:8080/"
        },
        "id": "V-b1HZ3nuKX9",
        "outputId": "5a14d346-006d-408e-b35f-173b8c649c11"
      },
      "execution_count": 32,
      "outputs": [
        {
          "output_type": "stream",
          "name": "stdout",
          "text": [
            "Partición 0: [1, 2, 3]\n",
            "Partición 1: [4, 5, 6]\n",
            "Partición 2: [7, 8, 9, 10]\n"
          ]
        }
      ]
    },
    {
      "cell_type": "code",
      "source": [
        "rdd.take(5)"
      ],
      "metadata": {
        "colab": {
          "base_uri": "https://localhost:8080/"
        },
        "id": "iQaGCf_Ww2Li",
        "outputId": "7c424781-6872-4b6c-9b56-74889b336199"
      },
      "execution_count": 33,
      "outputs": [
        {
          "output_type": "execute_result",
          "data": {
            "text/plain": [
              "[1, 2, 3, 4, 5]"
            ]
          },
          "metadata": {},
          "execution_count": 33
        }
      ]
    },
    {
      "cell_type": "markdown",
      "source": [
        "En este ejemplo:\n",
        "\n",
        "1. Se crea un RDD con datos de ejemplo y se especifica que tenga 3 particiones.\n",
        "2. Se define una función multiplicar_por_indice que toma el índice de la partición y un iterador que produce los elementos de esa partición. La función multiplica cada elemento por el índice de la partición.\n",
        "3. Se aplica mapPartitionsWithIndex al RDD utilizando la función definida.\n",
        "4. Se recogen y muestran los resultados, donde cada partición y sus elementos transformados se imprimen."
      ],
      "metadata": {
        "id": "6CDL8EyAxVLf"
      }
    },
    {
      "cell_type": "markdown",
      "source": [
        "#mapPartitionsWithIndex\n",
        "Esta función le pasa dos parámetros a nuestra función creada uno sería el índice y el otro toda la columna"
      ],
      "metadata": {
        "id": "Zp7Spi1Ll4va"
      }
    },
    {
      "cell_type": "code",
      "source": [
        "deportistaOlimpicoRDD = deportistaOlimpicoRDD.mapPartitionsWithIndex(eliminaEncabezado)"
      ],
      "metadata": {
        "id": "WAFR6p-6pT1D"
      },
      "execution_count": 12,
      "outputs": []
    },
    {
      "cell_type": "markdown",
      "source": [
        "El resultado se nos muestra sin encabezado"
      ],
      "metadata": {
        "id": "fKHRrVAzxuYO"
      }
    },
    {
      "cell_type": "code",
      "source": [
        "deportistaOlimpicoRDD.take(5)"
      ],
      "metadata": {
        "colab": {
          "base_uri": "https://localhost:8080/"
        },
        "id": "EHYAuNEW1Jjn",
        "outputId": "6bf30de7-8eb8-47c4-d962-bdf92f11864e"
      },
      "execution_count": 13,
      "outputs": [
        {
          "output_type": "execute_result",
          "data": {
            "text/plain": [
              "[['1', 'A Dijiang', '1', '24', '180', '80', '199'],\n",
              " ['2', 'A Lamusi', '1', '23', '170', '60', '199'],\n",
              " ['3', 'Gunnar Nielsen Aaby', '1', '24', '0', '0', '273'],\n",
              " ['4', 'Edgar Lindenau Aabye', '1', '34', '0', '0', '278'],\n",
              " ['5', 'Christine Jacoba Aaftink', '2', '21', '185', '82', '705']]"
            ]
          },
          "metadata": {},
          "execution_count": 13
        }
      ]
    },
    {
      "cell_type": "markdown",
      "source": [
        "Antes de transformar el RDD primero tenemos que transformar los valores del RDD.\n",
        "\n",
        "Por eso haremos un mapeo sobre deportistaOlimpicoRDD y tranformamos los valores"
      ],
      "metadata": {
        "id": "7XP8hlfIx-HJ"
      }
    },
    {
      "cell_type": "code",
      "source": [
        "deportistaOlimpicoRDD = deportistaOlimpicoRDD.map(lambda l: (\n",
        "    int(l[0]),\n",
        "    l[1],\n",
        "    int(l[2]),\n",
        "    int(l[3]),\n",
        "    int(l[4]),\n",
        "    float(l[5]),\n",
        "    int(l[6])\n",
        "    ))"
      ],
      "metadata": {
        "id": "hyQO4e0Y2i0w"
      },
      "execution_count": 15,
      "outputs": []
    },
    {
      "cell_type": "code",
      "source": [
        "deportistaOlimpicoRDD.take(5)"
      ],
      "metadata": {
        "colab": {
          "base_uri": "https://localhost:8080/"
        },
        "id": "YfISQCQ1z9an",
        "outputId": "f5efba92-5bde-4ca2-a4f9-1084534934f0"
      },
      "execution_count": 34,
      "outputs": [
        {
          "output_type": "execute_result",
          "data": {
            "text/plain": [
              "[(1, 'A Dijiang', 1, 24, 180, 80.0, 199),\n",
              " (2, 'A Lamusi', 1, 23, 170, 60.0, 199),\n",
              " (3, 'Gunnar Nielsen Aaby', 1, 24, 0, 0.0, 273),\n",
              " (4, 'Edgar Lindenau Aabye', 1, 34, 0, 0.0, 278),\n",
              " (5, 'Christine Jacoba Aaftink', 2, 21, 185, 82.0, 705)]"
            ]
          },
          "metadata": {},
          "execution_count": 34
        }
      ]
    },
    {
      "cell_type": "markdown",
      "source": [
        "Generamos el esquema que va a contener nuestro DataFrame"
      ],
      "metadata": {
        "id": "wCoWLMF30ELH"
      }
    },
    {
      "cell_type": "code",
      "source": [
        "schema = StructType([\n",
        "    StructField(\"deportista_id\", IntegerType(), False),\n",
        "    StructField(\"nombre\", StringType(), False),\n",
        "    StructField(\"genero\", IntegerType(), False),\n",
        "    StructField(\"edad\", IntegerType(), False),\n",
        "    StructField(\"altura\", IntegerType(), False),\n",
        "    StructField(\"peso\", FloatType(), False),\n",
        "    StructField(\"equipo_id\", IntegerType(), False)\n",
        "])"
      ],
      "metadata": {
        "id": "RbvTxjsc41PZ"
      },
      "execution_count": 17,
      "outputs": []
    },
    {
      "cell_type": "code",
      "source": [
        "sqlContext.createDataFrame(deportistaOlimpicoRDD, schema).show(5)"
      ],
      "metadata": {
        "colab": {
          "base_uri": "https://localhost:8080/"
        },
        "id": "snqKakS09Y7Q",
        "outputId": "4caa4a32-d49c-44f2-f693-9125289bb87f"
      },
      "execution_count": 20,
      "outputs": [
        {
          "output_type": "stream",
          "name": "stdout",
          "text": [
            "+-------------+--------------------+------+----+------+----+---------+\n",
            "|deportista_id|              nombre|genero|edad|altura|peso|equipo_id|\n",
            "+-------------+--------------------+------+----+------+----+---------+\n",
            "|            1|           A Dijiang|     1|  24|   180|80.0|      199|\n",
            "|            2|            A Lamusi|     1|  23|   170|60.0|      199|\n",
            "|            3| Gunnar Nielsen Aaby|     1|  24|     0| 0.0|      273|\n",
            "|            4|Edgar Lindenau Aabye|     1|  34|     0| 0.0|      278|\n",
            "|            5|Christine Jacoba ...|     2|  21|   185|82.0|      705|\n",
            "+-------------+--------------------+------+----+------+----+---------+\n",
            "only showing top 5 rows\n",
            "\n"
          ]
        }
      ]
    },
    {
      "cell_type": "code",
      "source": [
        "deportistaDF = sqlContext.createDataFrame(deportistaOlimpicoRDD, schema)"
      ],
      "metadata": {
        "id": "j5l3KYliCQGC"
      },
      "execution_count": 21,
      "outputs": []
    }
  ]
}