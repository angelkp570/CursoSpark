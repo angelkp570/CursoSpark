{
  "nbformat": 4,
  "nbformat_minor": 0,
  "metadata": {
    "colab": {
      "provenance": [],
      "authorship_tag": "ABX9TyPoLcj3yzzFxxEqCoQOP3q4",
      "include_colab_link": true
    },
    "kernelspec": {
      "name": "python3",
      "display_name": "Python 3"
    },
    "language_info": {
      "name": "python"
    }
  },
  "cells": [
    {
      "cell_type": "markdown",
      "metadata": {
        "id": "view-in-github",
        "colab_type": "text"
      },
      "source": [
        "<a href=\"https://colab.research.google.com/github/angelkp570/CursoSpark/blob/master/Clase5_Particion.ipynb\" target=\"_parent\"><img src=\"https://colab.research.google.com/assets/colab-badge.svg\" alt=\"Open In Colab\"/></a>"
      ]
    },
    {
      "cell_type": "markdown",
      "source": [
        "# Particionando Datos\n"
      ],
      "metadata": {
        "id": "4qi29jNRqkDQ"
      }
    },
    {
      "cell_type": "code",
      "source": [
        "# innstall java\n",
        "!apt-get install openjdk-8-jdk-headless -qq > /dev/null\n",
        "\n",
        "# install spark (change the version number if needed)\n",
        "!wget -q https://archive.apache.org/dist/spark/spark-3.0.0/spark-3.0.0-bin-hadoop3.2.tgz\n",
        "\n",
        "# unzip the spark file to the current folder\n",
        "!tar xf spark-3.0.0-bin-hadoop3.2.tgz\n",
        "\n",
        "# set your spark folder to your system path environment.\n",
        "import os\n",
        "os.environ[\"JAVA_HOME\"] = \"/usr/lib/jvm/java-8-openjdk-amd64\"\n",
        "os.environ[\"SPARK_HOME\"] = \"/content/spark-3.0.0-bin-hadoop3.2\"\n",
        "\n",
        "\n",
        "# install findspark using pip\n",
        "!pip install -q findspark"
      ],
      "metadata": {
        "id": "dvIlN34TrQL9"
      },
      "execution_count": 1,
      "outputs": []
    },
    {
      "cell_type": "code",
      "source": [
        "import findspark\n",
        "findspark.init()"
      ],
      "metadata": {
        "id": "US1tbJ7jrTHs"
      },
      "execution_count": 2,
      "outputs": []
    },
    {
      "cell_type": "code",
      "execution_count": 3,
      "metadata": {
        "id": "-W0COGL-qiNL"
      },
      "outputs": [],
      "source": [
        "from pyspark import SparkContext, SparkConf\n",
        "from pyspark.sql import SparkSession\n",
        "\n",
        "from pyspark.sql.types import StructType, StructField, IntegerType, StringType, FloatType, Row\n",
        "\n",
        "from pyspark.sql import SQLContext\n"
      ]
    },
    {
      "cell_type": "code",
      "source": [
        "# Le pasamos el 5 para indicar el número de particiones\n",
        "spark = SparkSession.builder.appName(\"Particionado\")\\\n",
        "  .master(\"local[5]\").getOrCreate()"
      ],
      "metadata": {
        "id": "njBN9fVXrXJL"
      },
      "execution_count": 4,
      "outputs": []
    },
    {
      "cell_type": "code",
      "source": [
        "df = spark.range(0,20)\n",
        "df.rdd.getNumPartitions()"
      ],
      "metadata": {
        "colab": {
          "base_uri": "https://localhost:8080/"
        },
        "id": "qCMEPAcUsZl7",
        "outputId": "7843864b-4c4d-445c-9204-545d9d8a7321"
      },
      "execution_count": 5,
      "outputs": [
        {
          "output_type": "execute_result",
          "data": {
            "text/plain": [
              "5"
            ]
          },
          "metadata": {},
          "execution_count": 5
        }
      ]
    },
    {
      "cell_type": "code",
      "source": [
        "rdd1 = spark.sparkContext.parallelize((0, 20), 10)\n",
        "rdd1.getNumPartitions()"
      ],
      "metadata": {
        "colab": {
          "base_uri": "https://localhost:8080/"
        },
        "id": "QtjbT8Cqv2Sl",
        "outputId": "31eeb59d-becd-43fd-c607-418b1d0d5088"
      },
      "execution_count": 6,
      "outputs": [
        {
          "output_type": "execute_result",
          "data": {
            "text/plain": [
              "10"
            ]
          },
          "metadata": {},
          "execution_count": 6
        }
      ]
    },
    {
      "cell_type": "markdown",
      "source": [
        "10 Particiones de un rdd"
      ],
      "metadata": {
        "id": "aC_DGAWzyNDh"
      }
    },
    {
      "cell_type": "code",
      "source": [
        "rddDesdeArchivo = spark.sparkContext.textFile(\"deporte.csv\",10)"
      ],
      "metadata": {
        "id": "wrFrL6XhyQG7"
      },
      "execution_count": 7,
      "outputs": []
    },
    {
      "cell_type": "code",
      "source": [
        "rddDesdeArchivo.getNumPartitions()"
      ],
      "metadata": {
        "colab": {
          "base_uri": "https://localhost:8080/"
        },
        "id": "S_PuTOlY2rJE",
        "outputId": "d13bf716-00fa-4104-a28d-e6503ec5f33f"
      },
      "execution_count": 8,
      "outputs": [
        {
          "output_type": "execute_result",
          "data": {
            "text/plain": [
              "10"
            ]
          },
          "metadata": {},
          "execution_count": 8
        }
      ]
    },
    {
      "cell_type": "markdown",
      "source": [
        "Veremos el método paraq guardar nuestros DataFrames o RDD que creamos"
      ],
      "metadata": {
        "id": "gHTBUCvT2x6R"
      }
    },
    {
      "cell_type": "code",
      "source": [
        "rddDesdeArchivo.saveAsTextFile(\"/content/salidatexto\")"
      ],
      "metadata": {
        "id": "7oSnDqZN4whw"
      },
      "execution_count": 9,
      "outputs": []
    },
    {
      "cell_type": "markdown",
      "source": [
        "Muestra nuestras 10 particiones"
      ],
      "metadata": {
        "id": "zs6usuls5POB"
      }
    },
    {
      "cell_type": "code",
      "source": [
        "!ls /content/salidatexto"
      ],
      "metadata": {
        "colab": {
          "base_uri": "https://localhost:8080/"
        },
        "id": "dyf4YgAG5IG3",
        "outputId": "64358816-7ff6-42c4-f984-436362b6a108"
      },
      "execution_count": 10,
      "outputs": [
        {
          "output_type": "stream",
          "name": "stdout",
          "text": [
            "part-00000  part-00002\tpart-00004  part-00006\tpart-00008  _SUCCESS\n",
            "part-00001  part-00003\tpart-00005  part-00007\tpart-00009\n"
          ]
        }
      ]
    },
    {
      "cell_type": "code",
      "source": [
        "!head -n 5 /content/salidatexto/part-00000"
      ],
      "metadata": {
        "colab": {
          "base_uri": "https://localhost:8080/"
        },
        "id": "NeyIVGjH5SEh",
        "outputId": "22415e00-01ad-4155-8c81-c6f3845fb7ef"
      },
      "execution_count": 12,
      "outputs": [
        {
          "output_type": "stream",
          "name": "stdout",
          "text": [
            "deporte_id,deporte\n",
            "1,Basketball\n",
            "2,Judo\n",
            "3,Football\n",
            "4,Tug-Of-War\n"
          ]
        }
      ]
    },
    {
      "cell_type": "code",
      "source": [
        "rdd = spark.sparkContext.wholeTextFiles(\"/content/salidatexto/*\")"
      ],
      "metadata": {
        "id": "6Mvqxh6s63Sm"
      },
      "execution_count": 13,
      "outputs": []
    },
    {
      "cell_type": "code",
      "source": [
        "rdd.take(4)"
      ],
      "metadata": {
        "colab": {
          "base_uri": "https://localhost:8080/"
        },
        "id": "gPdqt_cs9PKl",
        "outputId": "708410f4-09bb-400a-db93-c01f08a11cda"
      },
      "execution_count": 14,
      "outputs": [
        {
          "output_type": "execute_result",
          "data": {
            "text/plain": [
              "[('file:/content/salidatexto/part-00000',\n",
              "  'deporte_id,deporte\\n1,Basketball\\n2,Judo\\n3,Football\\n4,Tug-Of-War\\n5,Speed Skating\\n6,Cross Country Skiing\\n'),\n",
              " ('file:/content/salidatexto/part-00001',\n",
              "  '7,Athletics\\n8,Ice Hockey\\n9,Swimming\\n10,Badminton\\n11,Sailing\\n12,Biathlon\\n13,Gymnastics\\n14,Art Competitions\\n'),\n",
              " ('file:/content/salidatexto/part-00002',\n",
              "  '15,Alpine Skiing\\n16,Handball\\n17,Weightlifting\\n18,Wrestling\\n19,Luge\\n20,Water Polo\\n'),\n",
              " ('file:/content/salidatexto/part-00003',\n",
              "  '21,Hockey\\n22,Rowing\\n23,Bobsleigh\\n24,Fencing\\n25,Equestrianism\\n26,Shooting\\n27,Boxing\\n28,Taekwondo\\n')]"
            ]
          },
          "metadata": {},
          "execution_count": 14
        }
      ]
    },
    {
      "cell_type": "code",
      "source": [
        "lista = rdd.mapValues(lambda x: x.split()).collect()"
      ],
      "metadata": {
        "id": "7ikZldVK9T7j"
      },
      "execution_count": 15,
      "outputs": []
    },
    {
      "cell_type": "code",
      "source": [
        "lista"
      ],
      "metadata": {
        "colab": {
          "base_uri": "https://localhost:8080/"
        },
        "id": "TCtj6sOT9pqp",
        "outputId": "3f7dcd1c-f563-4e74-c03d-9bcc4e0abc95"
      },
      "execution_count": 16,
      "outputs": [
        {
          "output_type": "execute_result",
          "data": {
            "text/plain": [
              "[('file:/content/salidatexto/part-00000',\n",
              "  ['deporte_id,deporte',\n",
              "   '1,Basketball',\n",
              "   '2,Judo',\n",
              "   '3,Football',\n",
              "   '4,Tug-Of-War',\n",
              "   '5,Speed',\n",
              "   'Skating',\n",
              "   '6,Cross',\n",
              "   'Country',\n",
              "   'Skiing']),\n",
              " ('file:/content/salidatexto/part-00001',\n",
              "  ['7,Athletics',\n",
              "   '8,Ice',\n",
              "   'Hockey',\n",
              "   '9,Swimming',\n",
              "   '10,Badminton',\n",
              "   '11,Sailing',\n",
              "   '12,Biathlon',\n",
              "   '13,Gymnastics',\n",
              "   '14,Art',\n",
              "   'Competitions']),\n",
              " ('file:/content/salidatexto/part-00002',\n",
              "  ['15,Alpine',\n",
              "   'Skiing',\n",
              "   '16,Handball',\n",
              "   '17,Weightlifting',\n",
              "   '18,Wrestling',\n",
              "   '19,Luge',\n",
              "   '20,Water',\n",
              "   'Polo']),\n",
              " ('file:/content/salidatexto/part-00003',\n",
              "  ['21,Hockey',\n",
              "   '22,Rowing',\n",
              "   '23,Bobsleigh',\n",
              "   '24,Fencing',\n",
              "   '25,Equestrianism',\n",
              "   '26,Shooting',\n",
              "   '27,Boxing',\n",
              "   '28,Taekwondo']),\n",
              " ('file:/content/salidatexto/part-00004',\n",
              "  ['29,Cycling',\n",
              "   '30,Diving',\n",
              "   '31,Canoeing',\n",
              "   '32,Tennis',\n",
              "   '33,Modern',\n",
              "   'Pentathlon',\n",
              "   '34,Figure',\n",
              "   'Skating',\n",
              "   '35,Golf']),\n",
              " ('file:/content/salidatexto/part-00005',\n",
              "  ['36,Softball',\n",
              "   '37,Archery',\n",
              "   '38,Volleyball',\n",
              "   '39,Synchronized',\n",
              "   'Swimming',\n",
              "   '40,Table',\n",
              "   'Tennis',\n",
              "   '41,Nordic',\n",
              "   'Combined']),\n",
              " ('file:/content/salidatexto/part-00006',\n",
              "  ['42,Baseball',\n",
              "   '43,Rhythmic',\n",
              "   'Gymnastics',\n",
              "   '44,Freestyle',\n",
              "   'Skiing',\n",
              "   '45,Rugby',\n",
              "   'Sevens',\n",
              "   '46,Trampolining']),\n",
              " ('file:/content/salidatexto/part-00007',\n",
              "  ['47,Beach',\n",
              "   'Volleyball',\n",
              "   '48,Triathlon',\n",
              "   '49,Ski',\n",
              "   'Jumping',\n",
              "   '50,Curling',\n",
              "   '51,Snowboarding',\n",
              "   '52,Rugby',\n",
              "   '53,Short',\n",
              "   'Track',\n",
              "   'Speed',\n",
              "   'Skating']),\n",
              " ('file:/content/salidatexto/part-00008',\n",
              "  ['54,Skeleton',\n",
              "   '55,Lacrosse',\n",
              "   '56,Polo',\n",
              "   '57,Cricket',\n",
              "   '58,Racquets',\n",
              "   '59,Motorboating',\n",
              "   '60,Military',\n",
              "   'Ski',\n",
              "   'Patrol']),\n",
              " ('file:/content/salidatexto/part-00009',\n",
              "  ['61,Croquet',\n",
              "   '62,Jeu',\n",
              "   'De',\n",
              "   'Paume',\n",
              "   '63,Roque',\n",
              "   '64,Alpinism',\n",
              "   '65,Basque',\n",
              "   'Pelota',\n",
              "   '66,Aeronautics'])]"
            ]
          },
          "metadata": {},
          "execution_count": 16
        }
      ]
    },
    {
      "cell_type": "code",
      "source": [
        "lista = [l[0] for l in lista]\n",
        "lista.sort()"
      ],
      "metadata": {
        "id": "Z0BRXlnK9uB4"
      },
      "execution_count": 17,
      "outputs": []
    },
    {
      "cell_type": "code",
      "source": [
        "lista"
      ],
      "metadata": {
        "colab": {
          "base_uri": "https://localhost:8080/"
        },
        "id": "y7rLYXWr-s-7",
        "outputId": "f005e0a2-8acb-4d60-a9db-ce11930c9a18"
      },
      "execution_count": 18,
      "outputs": [
        {
          "output_type": "execute_result",
          "data": {
            "text/plain": [
              "['file:/content/salidatexto/part-00000',\n",
              " 'file:/content/salidatexto/part-00001',\n",
              " 'file:/content/salidatexto/part-00002',\n",
              " 'file:/content/salidatexto/part-00003',\n",
              " 'file:/content/salidatexto/part-00004',\n",
              " 'file:/content/salidatexto/part-00005',\n",
              " 'file:/content/salidatexto/part-00006',\n",
              " 'file:/content/salidatexto/part-00007',\n",
              " 'file:/content/salidatexto/part-00008',\n",
              " 'file:/content/salidatexto/part-00009']"
            ]
          },
          "metadata": {},
          "execution_count": 18
        }
      ]
    },
    {
      "cell_type": "code",
      "source": [
        "rdd2 = spark.sparkContext.textFile(\",\".join(lista), 10).map(lambda l: l.split(\",\"))"
      ],
      "metadata": {
        "id": "2SyQoJWE-0y6"
      },
      "execution_count": 19,
      "outputs": []
    },
    {
      "cell_type": "code",
      "source": [
        "rdd2.take(4)"
      ],
      "metadata": {
        "colab": {
          "base_uri": "https://localhost:8080/"
        },
        "id": "6eDmAfLQ_JiU",
        "outputId": "f96b1976-2ddd-4be1-8a63-f8694745080a"
      },
      "execution_count": 21,
      "outputs": [
        {
          "output_type": "execute_result",
          "data": {
            "text/plain": [
              "[['deporte_id', 'deporte'],\n",
              " ['1', 'Basketball'],\n",
              " ['2', 'Judo'],\n",
              " ['3', 'Football']]"
            ]
          },
          "metadata": {},
          "execution_count": 21
        }
      ]
    }
  ]
}